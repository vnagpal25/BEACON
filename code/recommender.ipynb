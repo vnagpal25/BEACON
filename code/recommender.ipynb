{
 "cells": [
  {
   "cell_type": "code",
   "execution_count": 26,
   "id": "b2261fd0",
   "metadata": {},
   "outputs": [],
   "source": [
    "import json\n",
    "import random"
   ]
  },
  {
   "cell_type": "code",
   "execution_count": 23,
   "id": "3763db2a",
   "metadata": {},
   "outputs": [],
   "source": [
    "# Read Recipe dataset\n",
    "with open('../data/recipe_repn.json', 'r') as file:\n",
    "    recipes = json.load(file)\n",
    "    recipes = recipes['recipe-ids']\n",
    "\n",
    "for recipe in recipes.values():\n",
    "#     print(recipe['recipe_name'])\n",
    "    ..."
   ]
  },
  {
   "cell_type": "code",
   "execution_count": 12,
   "id": "d0fc7531",
   "metadata": {},
   "outputs": [
    {
     "data": {
      "text/plain": [
       "{'Condition': 'Healthy',\n",
       " 'meal_schedule': [{'meal': 'breakfast', 'time': '9:00'},\n",
       "  {'meal': 'lunch', 'time': '13:00'},\n",
       "  {'meal': 'dinner', 'time': '20:00'}],\n",
       " 'meal_config': {'Beverage': '', 'Main Course': '', 'Dessert': ''},\n",
       " 'time_period': 1,\n",
       " 'recommendations_per_day': 3}"
      ]
     },
     "execution_count": 12,
     "metadata": {},
     "output_type": "execute_result"
    }
   ],
   "source": [
    "# Read user request\n",
    "with open('../data/user1.json', 'r') as file:\n",
    "    user_request = json.load(file)\n",
    "user_request"
   ]
  },
  {
   "cell_type": "code",
   "execution_count": 32,
   "id": "2dbc11e5",
   "metadata": {},
   "outputs": [],
   "source": [
    "# save to file sample output\n",
    "days = user_request['recommendations_per_day']\n",
    "meal_order = user_request['meal_schedule']\n",
    "meal_plan = []\n",
    "# [ \n",
    "#     [Days: {Meal Type, Meal {<Beverage><MainCourse><Side>, }}]\n",
    "# ]\n",
    "\n",
    "for i in range(days):\n",
    "    meals = []\n",
    "    for meal_info in meal_order:\n",
    "        \n",
    "        meal_type = meal_info['meal']\n",
    "        meal_time = meal_info['time']\n",
    "        \n",
    "        beverage = random.choice(['Coke', 'Water', 'Milkshake', 'Wine'])\n",
    "        main_course = random.choice(list(recipe.values()))\n",
    "        side = random.choice(list(recipe.values()))\n",
    "        \n",
    "        meal = {'meal type': meal_type, 'meal time': meal_time, 'beverage': beverage, 'main course': main_course, 'side': side}\n",
    "    \n",
    "        meals.append(meal)\n",
    "    meals = {f'day {i + 1}': meals}\n",
    "    meal_plan.append(meals)        "
   ]
  },
  {
   "cell_type": "code",
   "execution_count": 33,
   "id": "9e58c774",
   "metadata": {},
   "outputs": [],
   "source": [
    "with open('../user1_recommendation.json', 'w') as file:\n",
    "    json.dump(meal_plan, file)"
   ]
  },
  {
   "cell_type": "code",
   "execution_count": null,
   "id": "3f70f83c",
   "metadata": {},
   "outputs": [],
   "source": []
  }
 ],
 "metadata": {
  "kernelspec": {
   "display_name": "Python 3 (ipykernel)",
   "language": "python",
   "name": "python3"
  },
  "language_info": {
   "codemirror_mode": {
    "name": "ipython",
    "version": 3
   },
   "file_extension": ".py",
   "mimetype": "text/x-python",
   "name": "python",
   "nbconvert_exporter": "python",
   "pygments_lexer": "ipython3",
   "version": "3.9.12"
  }
 },
 "nbformat": 4,
 "nbformat_minor": 5
}
