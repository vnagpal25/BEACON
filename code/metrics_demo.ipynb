{
 "cells": [
  {
   "cell_type": "code",
   "execution_count": 2,
   "metadata": {},
   "outputs": [],
   "source": [
    "import json\n",
    "import random\n",
    "from meal_config import MealConfig\n",
    "from meal_info import MealInfo\n",
    "from meal_recommender import MealRecommender\n",
    "import pprint"
   ]
  },
  {
   "cell_type": "code",
   "execution_count": 8,
   "metadata": {
    "scrolled": false
   },
   "outputs": [
    {
     "name": "stdout",
     "output_type": "stream",
     "text": [
      "{'day 1': {'duplicate_day_score': 1.0,\n",
      "           'duplicate_meal_scores': [1.0, 1.0, 1.0]}}\n",
      "Class initiated\n",
      "{'Beverage': '12_bev', 'Main Course': '47'}\n",
      "{'12_bev': [1, 0], '47': [0, 1]}\n",
      "Class initiated\n",
      "{'Beverage': '22_bev', 'Main Course': '10', 'Side': '48'}\n",
      "{'22_bev': [1, 0, 0], '10': [0, 1, 1], '48': [0, 1, 1]}\n",
      "Class initiated\n",
      "{'Beverage': '23_bev', 'Main Course': '31', 'Dessert': '28', 'Side': '23'}\n",
      "{'23_bev': [1, 0, 0, 0], '31': [0, 1, 1, 1], '28': [0, 1, 1, 1], '23': [0, 1, 1, 1]}\n",
      "Class initiated\n"
     ]
    },
    {
     "ename": "FileNotFoundError",
     "evalue": "[Errno 2] No such file or directory: '../recommendations/recommendation_trial2/user_1.json'",
     "output_type": "error",
     "traceback": [
      "\u001b[1;31m---------------------------------------------------------------------------\u001b[0m",
      "\u001b[1;31mFileNotFoundError\u001b[0m                         Traceback (most recent call last)",
      "Input \u001b[1;32mIn [8]\u001b[0m, in \u001b[0;36m<cell line: 12>\u001b[1;34m()\u001b[0m\n\u001b[0;32m      9\u001b[0m user_meal_recommender\u001b[38;5;241m.\u001b[39mEvaluateRecs()\n\u001b[0;32m     11\u001b[0m \u001b[38;5;66;03m# Write Results to JSON\u001b[39;00m\n\u001b[1;32m---> 12\u001b[0m \u001b[43muser_meal_recommender\u001b[49m\u001b[38;5;241;43m.\u001b[39;49m\u001b[43mWriteMealRecs\u001b[49m\u001b[43m(\u001b[49m\u001b[43m)\u001b[49m\n",
      "File \u001b[1;32m~\\Desktop\\Spring2024\\CSCE498\\csce498_meal_reco_sp24_vnagpal\\code\\meal_recommender.py:124\u001b[0m, in \u001b[0;36mMealRecommender.WriteMealRecs\u001b[1;34m(self, meal_plan, save_path)\u001b[0m\n\u001b[0;32m    121\u001b[0m     meal_plan \u001b[38;5;241m=\u001b[39m \u001b[38;5;28mself\u001b[39m\u001b[38;5;241m.\u001b[39mrecommendation\n\u001b[0;32m    123\u001b[0m \u001b[38;5;66;03m# Write meal plan to json\u001b[39;00m\n\u001b[1;32m--> 124\u001b[0m \u001b[38;5;28;01mwith\u001b[39;00m \u001b[38;5;28;43mopen\u001b[39;49m\u001b[43m(\u001b[49m\u001b[43msave_path\u001b[49m\u001b[43m,\u001b[49m\u001b[43m \u001b[49m\u001b[38;5;124;43m'\u001b[39;49m\u001b[38;5;124;43mw\u001b[39;49m\u001b[38;5;124;43m'\u001b[39;49m\u001b[43m)\u001b[49m \u001b[38;5;28;01mas\u001b[39;00m file:\n\u001b[0;32m    125\u001b[0m     json\u001b[38;5;241m.\u001b[39mdump(meal_plan, file)\n",
      "\u001b[1;31mFileNotFoundError\u001b[0m: [Errno 2] No such file or directory: '../recommendations/recommendation_trial2/user_1.json'"
     ]
    }
   ],
   "source": [
    "# Initialize recommender for particular user\n",
    "user_meal_recommender = MealRecommender(f\"trial2/user_1.json\")\n",
    "\n",
    "# Create Personalized Meal Plan\n",
    "meal_plan = user_meal_recommender.RunMealRecStratRandom()\n",
    "\n",
    "\n",
    "\n",
    "user_meal_recommender.EvaluateRecs()\n",
    "\n",
    "# Write Results to JSON\n",
    "user_meal_recommender.WriteMealRecs()\n"
   ]
  },
  {
   "cell_type": "code",
   "execution_count": 3,
   "metadata": {},
   "outputs": [
    {
     "name": "stdout",
     "output_type": "stream",
     "text": [
      "0.9833333333333334\n"
     ]
    }
   ],
   "source": [
    "print(user_meal_recommender.goodness_score)"
   ]
  },
  {
   "cell_type": "code",
   "execution_count": 4,
   "metadata": {},
   "outputs": [
    {
     "name": "stdout",
     "output_type": "stream",
     "text": [
      "1.0\n"
     ]
    }
   ],
   "source": [
    "print(user_meal_recommender.config_score)"
   ]
  },
  {
   "cell_type": "code",
   "execution_count": 5,
   "metadata": {},
   "outputs": [
    {
     "name": "stdout",
     "output_type": "stream",
     "text": [
      "1.0\n"
     ]
    }
   ],
   "source": [
    "print(user_meal_recommender.dup_meal_score)"
   ]
  },
  {
   "cell_type": "code",
   "execution_count": 6,
   "metadata": {},
   "outputs": [
    {
     "name": "stdout",
     "output_type": "stream",
     "text": [
      "0.9166666666666667\n"
     ]
    }
   ],
   "source": [
    "print(user_meal_recommender.dup_day_score)"
   ]
  },
  {
   "cell_type": "code",
   "execution_count": 7,
   "metadata": {},
   "outputs": [
    {
     "name": "stdout",
     "output_type": "stream",
     "text": [
      "1.0\n"
     ]
    }
   ],
   "source": [
    "print(user_meal_recommender.coverage_score)"
   ]
  },
  {
   "cell_type": "code",
   "execution_count": 8,
   "metadata": {},
   "outputs": [
    {
     "name": "stdout",
     "output_type": "stream",
     "text": [
      "1.0\n"
     ]
    }
   ],
   "source": [
    "print(user_meal_recommender.user_constraint_score)"
   ]
  },
  {
   "cell_type": "code",
   "execution_count": 9,
   "metadata": {},
   "outputs": [
    {
     "name": "stdout",
     "output_type": "stream",
     "text": [
      "{'day 1': {'duplicate_day_score': 0.9166666666666667,\n",
      "           'duplicate_meal_scores': [1.0, 1.0, 1.0],\n",
      "           'meal_coverages': [1.0, 1.0, 1.0],\n",
      "           'user_constraint_coverages': [1.0, 1.0, 1.0]}}\n"
     ]
    }
   ],
   "source": [
    "pprint.pp(user_meal_recommender.score_breakdown)"
   ]
  }
 ],
 "metadata": {
  "kernelspec": {
   "display_name": "Python 3 (ipykernel)",
   "language": "python",
   "name": "python3"
  },
  "language_info": {
   "codemirror_mode": {
    "name": "ipython",
    "version": 3
   },
   "file_extension": ".py",
   "mimetype": "text/x-python",
   "name": "python",
   "nbconvert_exporter": "python",
   "pygments_lexer": "ipython3",
   "version": "3.9.12"
  }
 },
 "nbformat": 4,
 "nbformat_minor": 2
}
