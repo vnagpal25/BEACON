{
 "cells": [
  {
   "cell_type": "code",
   "execution_count": 1,
   "metadata": {},
   "outputs": [],
   "source": [
    "import json\n",
    "import random\n",
    "from meal_config import MealConfig\n",
    "from meal_info import MealInfo\n",
    "from meal_recommender import MealRecommender"
   ]
  },
  {
   "cell_type": "code",
   "execution_count": 14,
   "metadata": {
    "scrolled": true
   },
   "outputs": [
    {
     "name": "stdout",
     "output_type": "stream",
     "text": [
      "{'day 1': {'day_score': 0.0,\n",
      "           'meal_scores': {('Tea', '2-ingredient-avocado-egg-salad'): 0,\n",
      "                           ('Tomato Juice', 'how-to-make-chinese-egg-tarts', 'crunchwrap-supreme-copycat'): 0,\n",
      "                           ('Tea', 'bacon-and-egg-pie', 'egg-drop-chicken-noodle-soup', 'black-bean-chalupa-copycat'): 0}},\n",
      " 'day 2': {'day_score': 0.0,\n",
      "           'meal_scores': {('Iced Tea', 'bean-burrito-copycat'): 0,\n",
      "                           ('Chai Latte', 'chocolate-peanut-butter', 'cadbury-creme-egg-rolls'): 0,\n",
      "                           ('Ginger Ale', 'egg-drop-chicken-noodle-soup', 'peekaboo-sugar-eggs', 'egg-in-an-avocado-hole'): 0}},\n",
      " 'day 3': {'day_score': 0.0,\n",
      "           'meal_scores': {('Chai Latte', 'how-to-make-egg-omelettes'): 0,\n",
      "                           ('Smoothie', 'dinosaur-inspired-by-mikeasaurus', 'bakedfriedpan-fried-scotch-egg'): 0,\n",
      "                           ('Chai Latte', 'chocolate-peanut-butter', 'supremely-spicy-scrambled-eggs', 'supremely-spicy-scrambled-eggs'): 1}}}\n",
      "Class initiated\n",
      "Class initiated\n",
      "Class initiated\n",
      "Class initiated\n",
      "Class initiated\n",
      "Class initiated\n",
      "Class initiated\n",
      "Class initiated\n",
      "Class initiated\n"
     ]
    }
   ],
   "source": [
    "# Initialize recommender for particular user\n",
    "user_meal_recommender = MealRecommender(\"user1.json\")\n",
    "\n",
    "# Create Personalized Meal Plan\n",
    "meal_plan = user_meal_recommender.RunMealRecStrat()\n",
    "\n",
    "# Write Results to JSON\n",
    "user_meal_recommender.WriteMealRecs(meal_plan)\n",
    "\n",
    "user_meal_recommender.EvaluateRecs()"
   ]
  },
  {
   "cell_type": "code",
   "execution_count": 8,
   "metadata": {},
   "outputs": [
    {
     "name": "stdout",
     "output_type": "stream",
     "text": [
      "0.6944444444444443\n"
     ]
    }
   ],
   "source": [
    "print(user_meal_recommender.goodness_score)"
   ]
  },
  {
   "cell_type": "code",
   "execution_count": 4,
   "metadata": {},
   "outputs": [
    {
     "name": "stdout",
     "output_type": "stream",
     "text": [
      "1.0\n"
     ]
    }
   ],
   "source": [
    "print(user_meal_recommender.config_score)"
   ]
  },
  {
   "cell_type": "code",
   "execution_count": 5,
   "metadata": {},
   "outputs": [
    {
     "name": "stdout",
     "output_type": "stream",
     "text": [
      "0.0\n"
     ]
    }
   ],
   "source": [
    "print(user_meal_recommender.dup_score)"
   ]
  },
  {
   "cell_type": "code",
   "execution_count": 6,
   "metadata": {},
   "outputs": [
    {
     "name": "stdout",
     "output_type": "stream",
     "text": [
      "1.0\n"
     ]
    }
   ],
   "source": [
    "print(user_meal_recommender.coverage_score)"
   ]
  },
  {
   "cell_type": "code",
   "execution_count": null,
   "metadata": {},
   "outputs": [],
   "source": []
  },
  {
   "cell_type": "code",
   "execution_count": null,
   "metadata": {},
   "outputs": [],
   "source": []
  }
 ],
 "metadata": {
  "kernelspec": {
   "display_name": "Python 3 (ipykernel)",
   "language": "python",
   "name": "python3"
  },
  "language_info": {
   "codemirror_mode": {
    "name": "ipython",
    "version": 3
   },
   "file_extension": ".py",
   "mimetype": "text/x-python",
   "name": "python",
   "nbconvert_exporter": "python",
   "pygments_lexer": "ipython3",
   "version": "3.9.12"
  }
 },
 "nbformat": 4,
 "nbformat_minor": 2
}
