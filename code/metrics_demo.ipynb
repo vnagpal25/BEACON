{
 "cells": [
  {
   "cell_type": "code",
   "execution_count": 1,
   "metadata": {},
   "outputs": [],
   "source": [
    "import json\n",
    "import random\n",
    "from meal_config import MealConfig\n",
    "from meal_info import MealInfo\n",
    "from meal_recommender import MealRecommender\n",
    "import pprint"
   ]
  },
  {
   "cell_type": "code",
   "execution_count": 2,
   "metadata": {
    "scrolled": false
   },
   "outputs": [
    {
     "name": "stdout",
     "output_type": "stream",
     "text": [
      "{'day 1': {'duplicate_day_score': 1.0,\n",
      "           'duplicate_meal_scores': [1.0, 1.0, 1.0]}}\n",
      "Class initiated\n",
      "['Beverage', 'Main Course']\n",
      "{'5_bev': [1, 0], '49': [0, 0]}\n",
      "AHHHHHH\n",
      "Class initiated\n",
      "['Beverage', 'Main Course', 'Side']\n",
      "{'17_bev': [1, 0, 0], '1': [0, 1, 0], '43': [1, 0, 0]}\n",
      "AHHHHHH\n",
      "Class initiated\n",
      "['Beverage', 'Main Course', 'Side', 'Dessert']\n",
      "{'4_bev': [1, 0, 0, 0], '2': [0, 1, 0, 0], '12': [0, 1, 1, 0], '32': [0, 1, 0, 0]}\n",
      "AHHHHHH\n",
      "Class initiated\n"
     ]
    }
   ],
   "source": [
    "# Initialize recommender for particular user\n",
    "user_meal_recommender = MealRecommender(f\"trial2/user_1.json\")\n",
    "\n",
    "# Create Personalized Meal Plan\n",
    "meal_plan = user_meal_recommender.RunMealRecStratRandom()\n",
    "\n",
    "\n",
    "\n",
    "user_meal_recommender.EvaluateRecs()\n",
    "\n",
    "# # Write Results to JSON\n",
    "# user_meal_recommender.WriteMealRecs()\n"
   ]
  },
  {
   "cell_type": "code",
   "execution_count": 3,
   "metadata": {},
   "outputs": [
    {
     "name": "stdout",
     "output_type": "stream",
     "text": [
      "0.8222222222222222\n"
     ]
    }
   ],
   "source": [
    "print(user_meal_recommender.goodness_score)"
   ]
  },
  {
   "cell_type": "code",
   "execution_count": 4,
   "metadata": {},
   "outputs": [
    {
     "name": "stdout",
     "output_type": "stream",
     "text": [
      "1.0\n"
     ]
    }
   ],
   "source": [
    "print(user_meal_recommender.config_score)"
   ]
  },
  {
   "cell_type": "code",
   "execution_count": 5,
   "metadata": {},
   "outputs": [
    {
     "name": "stdout",
     "output_type": "stream",
     "text": [
      "1.0\n"
     ]
    }
   ],
   "source": [
    "print(user_meal_recommender.dup_meal_score)"
   ]
  },
  {
   "cell_type": "code",
   "execution_count": 6,
   "metadata": {},
   "outputs": [
    {
     "name": "stdout",
     "output_type": "stream",
     "text": [
      "1.0\n"
     ]
    }
   ],
   "source": [
    "print(user_meal_recommender.dup_day_score)"
   ]
  },
  {
   "cell_type": "code",
   "execution_count": 7,
   "metadata": {},
   "outputs": [
    {
     "name": "stdout",
     "output_type": "stream",
     "text": [
      "0.1111111111111111\n"
     ]
    }
   ],
   "source": [
    "print(user_meal_recommender.coverage_score)"
   ]
  },
  {
   "cell_type": "code",
   "execution_count": 8,
   "metadata": {},
   "outputs": [
    {
     "name": "stdout",
     "output_type": "stream",
     "text": [
      "1.0\n"
     ]
    }
   ],
   "source": [
    "print(user_meal_recommender.user_constraint_score)"
   ]
  },
  {
   "cell_type": "code",
   "execution_count": 9,
   "metadata": {},
   "outputs": [
    {
     "name": "stdout",
     "output_type": "stream",
     "text": [
      "{'day 1': {'duplicate_day_score': 1.0,\n",
      "           'duplicate_meal_scores': [1.0, 1.0, 1.0],\n",
      "           'meal_coverages': [0.0, 0.3333333333333333, 0.0],\n",
      "           'user_constraint_coverages': [1.0, 1.0, 1.0]}}\n"
     ]
    }
   ],
   "source": [
    "pprint.pp(user_meal_recommender.score_breakdown)"
   ]
  },
  {
   "cell_type": "code",
   "execution_count": null,
   "metadata": {},
   "outputs": [],
   "source": []
  }
 ],
 "metadata": {
  "kernelspec": {
   "display_name": "Python 3 (ipykernel)",
   "language": "python",
   "name": "python3"
  },
  "language_info": {
   "codemirror_mode": {
    "name": "ipython",
    "version": 3
   },
   "file_extension": ".py",
   "mimetype": "text/x-python",
   "name": "python",
   "nbconvert_exporter": "python",
   "pygments_lexer": "ipython3",
   "version": "3.11.9"
  }
 },
 "nbformat": 4,
 "nbformat_minor": 2
}
