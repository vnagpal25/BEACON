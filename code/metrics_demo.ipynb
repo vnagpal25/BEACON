{
 "cells": [
  {
   "cell_type": "code",
   "execution_count": 1,
   "metadata": {},
   "outputs": [],
   "source": [
    "import json\n",
    "import random\n",
    "from meal_config import MealConfig\n",
    "from meal_info import MealInfo\n",
    "from meal_recommender import MealRecommender\n",
    "import pprint"
   ]
  },
  {
   "cell_type": "code",
   "execution_count": null,
   "metadata": {},
   "outputs": [],
   "source": [
    "\"\"\"\n",
    " BSD 2-Clause License\n",
    "\n",
    " Copyright (c) 2024, AI4Society Research Group\n",
    "\n",
    " Redistribution and use in source and binary forms, with or without\n",
    " modification, are permitted provided that the following conditions are met:\n",
    "\n",
    " 1. Redistributions of source code must retain the above copyright notice, this\n",
    "    list of conditions and the following disclaimer.\n",
    "\n",
    " 2. Redistributions in binary form must reproduce the above copyright notice,\n",
    "    this list of conditions and the following disclaimer in the documentation\n",
    "    and/or other materials provided with the distribution.\n",
    "\n",
    " THIS SOFTWARE IS PROVIDED BY THE COPYRIGHT HOLDERS AND CONTRIBUTORS \"AS IS\"\n",
    " AND ANY EXPRESS OR IMPLIED WARRANTIES, INCLUDING, BUT NOT LIMITED TO, THE\n",
    " IMPLIED WARRANTIES OF MERCHANTABILITY AND FITNESS FOR A PARTICULAR PURPOSE ARE\n",
    " DISCLAIMED. IN NO EVENT SHALL THE COPYRIGHT HOLDER OR CONTRIBUTORS BE LIABLE\n",
    " FOR ANY DIRECT, INDIRECT, INCIDENTAL, SPECIAL, EXEMPLARY, OR CONSEQUENTIAL\n",
    " DAMAGES (INCLUDING, BUT NOT LIMITED TO, PROCUREMENT OF SUBSTITUTE GOODS OR\n",
    " SERVICES; LOSS OF USE, DATA, OR PROFITS; OR BUSINESS INTERRUPTION) HOWEVER\n",
    " CAUSED AND ON ANY THEORY OF LIABILITY, WHETHER IN CONTRACT, STRICT LIABILITY,\n",
    " OR TORT (INCLUDING NEGLIGENCE OR OTHERWISE) ARISING IN ANY WAY OUT OF THE USE\n",
    " OF THIS SOFTWARE, EVEN IF ADVISED OF THE POSSIBILITY OF SUCH DAMAGE.\n",
    "\"\"\""
   ]
  },
  {
   "cell_type": "code",
   "execution_count": 2,
   "metadata": {
    "scrolled": false
   },
   "outputs": [
    {
     "name": "stdout",
     "output_type": "stream",
     "text": [
      "{'day 1': {'duplicate_day_score': 1.0,\n",
      "           'duplicate_meal_scores': [1.0, 1.0, 1.0]}}\n",
      "Class initiated\n",
      "['Beverage', 'Main Course']\n",
      "{'5_bev': [1, 0], '49': [0, 0]}\n",
      "AHHHHHH\n",
      "Class initiated\n",
      "['Beverage', 'Main Course', 'Side']\n",
      "{'17_bev': [1, 0, 0], '1': [0, 1, 0], '43': [1, 0, 0]}\n",
      "AHHHHHH\n",
      "Class initiated\n",
      "['Beverage', 'Main Course', 'Side', 'Dessert']\n",
      "{'4_bev': [1, 0, 0, 0], '2': [0, 1, 0, 0], '12': [0, 1, 1, 0], '32': [0, 1, 0, 0]}\n",
      "AHHHHHH\n",
      "Class initiated\n"
     ]
    }
   ],
   "source": [
    "# Initialize recommender for particular user\n",
    "user_meal_recommender = MealRecommender(f\"trial2/user_1.json\")\n",
    "\n",
    "# Create Personalized Meal Plan\n",
    "meal_plan = user_meal_recommender.RunMealRecStratRandom()\n",
    "\n",
    "\n",
    "\n",
    "user_meal_recommender.EvaluateRecs()\n",
    "\n",
    "# # Write Results to JSON\n",
    "# user_meal_recommender.WriteMealRecs()\n"
   ]
  },
  {
   "cell_type": "code",
   "execution_count": 3,
   "metadata": {},
   "outputs": [
    {
     "name": "stdout",
     "output_type": "stream",
     "text": [
      "0.8222222222222222\n"
     ]
    }
   ],
   "source": [
    "print(user_meal_recommender.goodness_score)"
   ]
  },
  {
   "cell_type": "code",
   "execution_count": 4,
   "metadata": {},
   "outputs": [
    {
     "name": "stdout",
     "output_type": "stream",
     "text": [
      "1.0\n"
     ]
    }
   ],
   "source": [
    "print(user_meal_recommender.config_score)"
   ]
  },
  {
   "cell_type": "code",
   "execution_count": 5,
   "metadata": {},
   "outputs": [
    {
     "name": "stdout",
     "output_type": "stream",
     "text": [
      "1.0\n"
     ]
    }
   ],
   "source": [
    "print(user_meal_recommender.dup_meal_score)"
   ]
  },
  {
   "cell_type": "code",
   "execution_count": 6,
   "metadata": {},
   "outputs": [
    {
     "name": "stdout",
     "output_type": "stream",
     "text": [
      "1.0\n"
     ]
    }
   ],
   "source": [
    "print(user_meal_recommender.dup_day_score)"
   ]
  },
  {
   "cell_type": "code",
   "execution_count": 7,
   "metadata": {},
   "outputs": [
    {
     "name": "stdout",
     "output_type": "stream",
     "text": [
      "0.1111111111111111\n"
     ]
    }
   ],
   "source": [
    "print(user_meal_recommender.coverage_score)"
   ]
  },
  {
   "cell_type": "code",
   "execution_count": 8,
   "metadata": {},
   "outputs": [
    {
     "name": "stdout",
     "output_type": "stream",
     "text": [
      "1.0\n"
     ]
    }
   ],
   "source": [
    "print(user_meal_recommender.user_constraint_score)"
   ]
  },
  {
   "cell_type": "code",
   "execution_count": 9,
   "metadata": {},
   "outputs": [
    {
     "name": "stdout",
     "output_type": "stream",
     "text": [
      "{'day 1': {'duplicate_day_score': 1.0,\n",
      "           'duplicate_meal_scores': [1.0, 1.0, 1.0],\n",
      "           'meal_coverages': [0.0, 0.3333333333333333, 0.0],\n",
      "           'user_constraint_coverages': [1.0, 1.0, 1.0]}}\n"
     ]
    }
   ],
   "source": [
    "pprint.pp(user_meal_recommender.score_breakdown)"
   ]
  },
  {
   "cell_type": "code",
   "execution_count": null,
   "metadata": {},
   "outputs": [],
   "source": []
  }
 ],
 "metadata": {
  "kernelspec": {
   "display_name": "Python 3 (ipykernel)",
   "language": "python",
   "name": "python3"
  },
  "language_info": {
   "codemirror_mode": {
    "name": "ipython",
    "version": 3
   },
   "file_extension": ".py",
   "mimetype": "text/x-python",
   "name": "python",
   "nbconvert_exporter": "python",
   "pygments_lexer": "ipython3",
   "version": "3.11.9"
  }
 },
 "nbformat": 4,
 "nbformat_minor": 2
}
