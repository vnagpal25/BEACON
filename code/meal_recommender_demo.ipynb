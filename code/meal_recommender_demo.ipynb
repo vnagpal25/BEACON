{
 "cells": [
  {
   "cell_type": "code",
   "execution_count": 1,
   "id": "b2261fd0",
   "metadata": {},
   "outputs": [],
   "source": [
    "import json\n",
    "import random\n",
    "from meal_config import MealConfig\n",
    "from meal_info import MealInfo\n",
    "from meal_recommender import MealRecommender"
   ]
  },
  {
   "cell_type": "code",
   "execution_count": 2,
   "id": "6c3b2c0f",
   "metadata": {},
   "outputs": [
    {
     "name": "stdout",
     "output_type": "stream",
     "text": [
      "hello\n",
      "{'26': ('cheesy-gordita-crunch-copycat', {'hasDairy': True, 'hasMeat': True, 'hasNuts': False}), '27': ('crunchwrap-supreme-copycat', {'hasDairy': True, 'hasMeat': True, 'hasNuts': False}), '28': ('quesadilla-copycat', {'hasDairy': True, 'hasMeat': True, 'hasNuts': False}), '29': ('bean-burrito-copycat', {'hasDairy': True, 'hasMeat': False, 'hasNuts': False}), '30': ('black-bean-chalupa-copycat', {'hasDairy': True, 'hasMeat': False, 'hasNuts': False}), '1': ('egg-drop-chicken-noodle-soup', {'hasDairy': False, 'hasMeat': True, 'hasNuts': False}), '2': ('my-scotch-eggs', {'hasDairy': True, 'hasMeat': True, 'hasNuts': False}), '3': ('egg-in-an-avocado-hole', {'hasDairy': True, 'hasMeat': True, 'hasNuts': False}), '4': ('delicious-chocolate-bark-recipe', {'hasDairy': True, 'hasMeat': False, 'hasNuts': False}), '5': ('bacon-candy', {'hasDairy': False, 'hasMeat': False, 'hasNuts': False}), '6': ('bacon-and-egg-pie', {'hasDairy': True, 'hasMeat': True, 'hasNuts': False}), '7': ('how-to-make-egg-salad', {'hasDairy': False, 'hasMeat': False, 'hasNuts': False}), '8': ('peekaboo-sugar-eggs', {'hasDairy': False, 'hasMeat': False, 'hasNuts': False}), '9': ('egg-bundles', {'hasDairy': True, 'hasMeat': True, 'hasNuts': False}), '10': ('cadbury-creme-egg-rolls', {'hasDairy': False, 'hasMeat': False, 'hasNuts': False}), '11': ('mini-egg-pie', {'hasDairy': False, 'hasMeat': False, 'hasNuts': False}), '12': ('2-ingredient-avocado-egg-salad', {'hasDairy': False, 'hasMeat': False, 'hasNuts': False}), '13': ('how-to-make-egg-omelettes', {'hasDairy': True, 'hasMeat': True, 'hasNuts': False}), '14': ('bunny-egg-salad', {'hasDairy': False, 'hasMeat': False, 'hasNuts': False}), '15': ('deviled-egg-salad', {'hasDairy': False, 'hasMeat': False, 'hasNuts': False}), '16': ('dinosaur-inspired-by-mikeasaurus', {'hasDairy': False, 'hasMeat': False, 'hasNuts': False}), '17': ('bacon-asparagus-and-egg-bake', {'hasDairy': True, 'hasMeat': True, 'hasNuts': False}), '18': ('how-to-make-chinese-egg-tarts', {'hasDairy': True, 'hasMeat': False, 'hasNuts': False}), '19': ('egg-filled-bread-roll', {'hasDairy': False, 'hasMeat': False, 'hasNuts': False}), '20': ('chocolate-peanut-butter', {'hasDairy': True, 'hasMeat': False, 'hasNuts': True}), '21': ('supremely-spicy-scrambled-eggs', {'hasDairy': True, 'hasMeat': False, 'hasNuts': False}), '22': ('peekaboo-sugar', {'hasDairy': False, 'hasMeat': False, 'hasNuts': False}), '23': ('eggs-and-bacon-the-perfect-quick-paleo-meal', {'hasDairy': False, 'hasMeat': True, 'hasNuts': False}), '24': ('bakedfriedpan-fried-scotch-egg', {'hasDairy': False, 'hasMeat': True, 'hasNuts': False}), '25': ('deviled-eggs-with-smoked-salmon-and-capers', {'hasDairy': True, 'hasMeat': True, 'hasNuts': False})}\n"
     ]
    }
   ],
   "source": [
    "# Initialize recommender for particular user\n",
    "user_meal_recommender = MealRecommender(\"user_1.json\")\n",
    "\n",
    "# # Create Personalized Meal Plan\n",
    "# meal_plan = user_meal_recommender.RunMealRecStrat()\n",
    "\n",
    "# # Write Results to JSON\n",
    "# user_meal_recommender.WriteMealRecs(meal_plan)"
   ]
  },
  {
   "cell_type": "code",
   "execution_count": null,
   "id": "f3880507",
   "metadata": {},
   "outputs": [],
   "source": []
  },
  {
   "cell_type": "code",
   "execution_count": null,
   "id": "96f3edf4",
   "metadata": {},
   "outputs": [],
   "source": []
  }
 ],
 "metadata": {
  "kernelspec": {
   "display_name": "Python 3 (ipykernel)",
   "language": "python",
   "name": "python3"
  },
  "language_info": {
   "codemirror_mode": {
    "name": "ipython",
    "version": 3
   },
   "file_extension": ".py",
   "mimetype": "text/x-python",
   "name": "python",
   "nbconvert_exporter": "python",
   "pygments_lexer": "ipython3",
   "version": "3.9.12"
  }
 },
 "nbformat": 4,
 "nbformat_minor": 5
}
