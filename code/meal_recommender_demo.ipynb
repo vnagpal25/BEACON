{
 "cells": [
  {
   "cell_type": "code",
   "execution_count": 4,
   "id": "b2261fd0",
   "metadata": {},
   "outputs": [],
   "source": [
    "import json\n",
    "import random\n",
    "from meal_config import MealConfig\n",
    "from meal_info import MealInfo\n",
    "from meal_recommender import MealRecommender"
   ]
  },
  {
   "cell_type": "code",
   "execution_count": 5,
   "id": "a0bd6f76",
   "metadata": {},
   "outputs": [
    {
     "data": {
      "text/plain": [
       "'\\n BSD 2-Clause License\\n\\n Copyright (c) 2024, AI4Society Research Group\\n\\n Redistribution and use in source and binary forms, with or without\\n modification, are permitted provided that the following conditions are met:\\n\\n 1. Redistributions of source code must retain the above copyright notice, this\\n    list of conditions and the following disclaimer.\\n\\n 2. Redistributions in binary form must reproduce the above copyright notice,\\n    this list of conditions and the following disclaimer in the documentation\\n    and/or other materials provided with the distribution.\\n\\n THIS SOFTWARE IS PROVIDED BY THE COPYRIGHT HOLDERS AND CONTRIBUTORS \"AS IS\"\\n AND ANY EXPRESS OR IMPLIED WARRANTIES, INCLUDING, BUT NOT LIMITED TO, THE\\n IMPLIED WARRANTIES OF MERCHANTABILITY AND FITNESS FOR A PARTICULAR PURPOSE ARE\\n DISCLAIMED. IN NO EVENT SHALL THE COPYRIGHT HOLDER OR CONTRIBUTORS BE LIABLE\\n FOR ANY DIRECT, INDIRECT, INCIDENTAL, SPECIAL, EXEMPLARY, OR CONSEQUENTIAL\\n DAMAGES (INCLUDING, BUT NOT LIMITED TO, PROCUREMENT OF SUBSTITUTE GOODS OR\\n SERVICES; LOSS OF USE, DATA, OR PROFITS; OR BUSINESS INTERRUPTION) HOWEVER\\n CAUSED AND ON ANY THEORY OF LIABILITY, WHETHER IN CONTRACT, STRICT LIABILITY,\\n OR TORT (INCLUDING NEGLIGENCE OR OTHERWISE) ARISING IN ANY WAY OUT OF THE USE\\n OF THIS SOFTWARE, EVEN IF ADVISED OF THE POSSIBILITY OF SUCH DAMAGE.\\n'"
      ]
     },
     "execution_count": 5,
     "metadata": {},
     "output_type": "execute_result"
    }
   ],
   "source": [
    "\"\"\"\n",
    " BSD 2-Clause License\n",
    "\n",
    " Copyright (c) 2024, AI4Society Research Group\n",
    "\n",
    " Redistribution and use in source and binary forms, with or without\n",
    " modification, are permitted provided that the following conditions are met:\n",
    "\n",
    " 1. Redistributions of source code must retain the above copyright notice, this\n",
    "    list of conditions and the following disclaimer.\n",
    "\n",
    " 2. Redistributions in binary form must reproduce the above copyright notice,\n",
    "    this list of conditions and the following disclaimer in the documentation\n",
    "    and/or other materials provided with the distribution.\n",
    "\n",
    " THIS SOFTWARE IS PROVIDED BY THE COPYRIGHT HOLDERS AND CONTRIBUTORS \"AS IS\"\n",
    " AND ANY EXPRESS OR IMPLIED WARRANTIES, INCLUDING, BUT NOT LIMITED TO, THE\n",
    " IMPLIED WARRANTIES OF MERCHANTABILITY AND FITNESS FOR A PARTICULAR PURPOSE ARE\n",
    " DISCLAIMED. IN NO EVENT SHALL THE COPYRIGHT HOLDER OR CONTRIBUTORS BE LIABLE\n",
    " FOR ANY DIRECT, INDIRECT, INCIDENTAL, SPECIAL, EXEMPLARY, OR CONSEQUENTIAL\n",
    " DAMAGES (INCLUDING, BUT NOT LIMITED TO, PROCUREMENT OF SUBSTITUTE GOODS OR\n",
    " SERVICES; LOSS OF USE, DATA, OR PROFITS; OR BUSINESS INTERRUPTION) HOWEVER\n",
    " CAUSED AND ON ANY THEORY OF LIABILITY, WHETHER IN CONTRACT, STRICT LIABILITY,\n",
    " OR TORT (INCLUDING NEGLIGENCE OR OTHERWISE) ARISING IN ANY WAY OUT OF THE USE\n",
    " OF THIS SOFTWARE, EVEN IF ADVISED OF THE POSSIBILITY OF SUCH DAMAGE.\n",
    "\"\"\""
   ]
  },
  {
   "cell_type": "code",
   "execution_count": 6,
   "id": "6c3b2c0f",
   "metadata": {},
   "outputs": [],
   "source": [
    "# Initialize recommender for particular user\n",
    "user_meal_recommender = MealRecommender(\"demo/user1.json\")\n",
    "\n",
    "# # Create Personalized Meal Plan\n",
    "# meal_plan = user_meal_recommender.RunMealRecStrat()\n",
    "\n",
    "# # Write Results to JSON\n",
    "# user_meal_recommender.WriteMealRecs(meal_plan)"
   ]
  }
 ],
 "metadata": {
  "kernelspec": {
   "display_name": "Python 3 (ipykernel)",
   "language": "python",
   "name": "python3"
  },
  "language_info": {
   "codemirror_mode": {
    "name": "ipython",
    "version": 3
   },
   "file_extension": ".py",
   "mimetype": "text/x-python",
   "name": "python",
   "nbconvert_exporter": "python",
   "pygments_lexer": "ipython3",
   "version": "3.9.12"
  }
 },
 "nbformat": 4,
 "nbformat_minor": 5
}
