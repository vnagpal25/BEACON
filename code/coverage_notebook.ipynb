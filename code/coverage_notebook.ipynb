{
 "cells": [
  {
   "cell_type": "markdown",
   "id": "61606d86",
   "metadata": {},
   "source": [
    "# Coverage Metric Notebook"
   ]
  },
  {
   "cell_type": "markdown",
   "id": "e19c03c9",
   "metadata": {},
   "source": [
    "## Import class, set meal configuration and weights"
   ]
  },
  {
   "cell_type": "code",
   "execution_count": 1,
   "id": "964c7607",
   "metadata": {},
   "outputs": [
    {
     "name": "stdout",
     "output_type": "stream",
     "text": [
      "Class initiated\n"
     ]
    }
   ],
   "source": [
    "# Import the class\n",
    "import coverage\n",
    "\n",
    "# Initialize class\n",
    "c=coverage.Coverage()\n",
    "\n",
    "# Define meal configuration with N food roles\n",
    "c.set_meal_config(['Beverage', 'Main Course', 'Side Dish', 'Dessert'])"
   ]
  },
  {
   "cell_type": "code",
   "execution_count": 2,
   "id": "fa6b43d9",
   "metadata": {},
   "outputs": [
    {
     "data": {
      "text/plain": [
       "[0.25, 0.25, 0.25, 0.25]"
      ]
     },
     "execution_count": 2,
     "metadata": {},
     "output_type": "execute_result"
    }
   ],
   "source": [
    "# Set weights for each of the food roles\n",
    "c.set_new_weights([1,1,1,1])  # default weights\n",
    "\n",
    "# Get weights for each of the food roles\n",
    "c.get_weights()"
   ]
  },
  {
   "cell_type": "markdown",
   "id": "b7245b70",
   "metadata": {},
   "source": [
    "## Add items and define their food roles\n",
    "- <code>c.add_food_items({'omelet':[0,1,2,1]})</code> -> This will result in <code>Exception: Each weight can only be 0 or 1.</code>\n",
    "- <code>c.add_food_items({'omelet':[0,1,1]})</code> -> This will result in <code>Exception: The food roles list must match the size of the meal configuration.</code>\n",
    "\n",
    "The food roles list is meant to be filled with binary values only. You are not defining any weights, but merely annotating what food roles an item X is classified as."
   ]
  },
  {
   "cell_type": "code",
   "execution_count": 3,
   "id": "e4db2348",
   "metadata": {},
   "outputs": [
    {
     "data": {
      "text/plain": [
       "{'omelet': [0, 1, 1, 0],\n",
       " 'salad': [0, 1, 1, 0],\n",
       " 'cake': [0, 0, 0, 1],\n",
       " 'tea': [1, 0, 0, 0]}"
      ]
     },
     "execution_count": 3,
     "metadata": {},
     "output_type": "execute_result"
    }
   ],
   "source": [
    "c.add_food_items({'omelet': [0, 1, 1, 0],  # Example: omelet can be a main course and a side dish\n",
    "            'salad': [0, 1, 1, 0],\n",
    "            'cake':[0, 0, 0, 1],\n",
    "            'tea':[1, 0, 0, 0]\n",
    "            # Add more foods and their roles here\n",
    "        })\n",
    "\n",
    "c.get_food_items()"
   ]
  },
  {
   "cell_type": "markdown",
   "id": "0435dd84",
   "metadata": {},
   "source": [
    "## Calculating coverage\n",
    "\n",
    "- We calculate coverage based on how many food roles are <i>correctly</i> fulfilled in the meal recommendation.\n",
    "- We penalize when the recommended food is not in the food items for a particular role.\n",
    "- We don't penalize for missing roles that are not present in the recommendation.\n"
   ]
  },
  {
   "cell_type": "code",
   "execution_count": 3,
   "id": "1d17e34b",
   "metadata": {},
   "outputs": [
    {
     "data": {
      "text/plain": [
       "0"
      ]
     },
     "execution_count": 3,
     "metadata": {},
     "output_type": "execute_result"
    }
   ],
   "source": [
    "# Test case 1: a meal rec is empty\n",
    "recommendation={}\n",
    "\n",
    "c.calc_coverage(recommendation)\n",
    "\n",
    "c.get_coverage()"
   ]
  },
  {
   "cell_type": "code",
   "execution_count": 4,
   "id": "916128e1",
   "metadata": {},
   "outputs": [
    {
     "ename": "UnboundLocalError",
     "evalue": "cannot access local variable 'meal_index' where it is not associated with a value",
     "output_type": "error",
     "traceback": [
      "\u001b[1;31m---------------------------------------------------------------------------\u001b[0m",
      "\u001b[1;31mUnboundLocalError\u001b[0m                         Traceback (most recent call last)",
      "Cell \u001b[1;32mIn[4], line 4\u001b[0m\n\u001b[0;32m      1\u001b[0m \u001b[38;5;66;03m# Test case 2: a meal recommendation has all food roles correctly fulfilled with the correct food items\u001b[39;00m\n\u001b[0;32m      2\u001b[0m recommendation\u001b[38;5;241m=\u001b[39m{\u001b[38;5;124m'\u001b[39m\u001b[38;5;124mBeverage\u001b[39m\u001b[38;5;124m'\u001b[39m:\u001b[38;5;124m'\u001b[39m\u001b[38;5;124mtea\u001b[39m\u001b[38;5;124m'\u001b[39m, \u001b[38;5;124m'\u001b[39m\u001b[38;5;124mMain Course\u001b[39m\u001b[38;5;124m'\u001b[39m: \u001b[38;5;124m'\u001b[39m\u001b[38;5;124momelet\u001b[39m\u001b[38;5;124m'\u001b[39m, \u001b[38;5;124m'\u001b[39m\u001b[38;5;124mSide Dish\u001b[39m\u001b[38;5;124m'\u001b[39m: \u001b[38;5;124m'\u001b[39m\u001b[38;5;124momelet\u001b[39m\u001b[38;5;124m'\u001b[39m, \u001b[38;5;124m'\u001b[39m\u001b[38;5;124mDessert\u001b[39m\u001b[38;5;124m'\u001b[39m:\u001b[38;5;124m'\u001b[39m\u001b[38;5;124mcake\u001b[39m\u001b[38;5;124m'\u001b[39m}\n\u001b[1;32m----> 4\u001b[0m \u001b[43mc\u001b[49m\u001b[38;5;241;43m.\u001b[39;49m\u001b[43mcalc_coverage\u001b[49m\u001b[43m(\u001b[49m\u001b[43mrecommendation\u001b[49m\u001b[43m)\u001b[49m\n\u001b[0;32m      6\u001b[0m c\u001b[38;5;241m.\u001b[39mget_coverage()\n",
      "File \u001b[1;32mc:\\Users\\2002v\\Desktop\\Spring2024\\CSCE498\\csce498_meal_reco_sp24_vnagpal\\code\\coverage.py:111\u001b[0m, in \u001b[0;36mCoverage.calc_coverage\u001b[1;34m(self, meal_recommendation)\u001b[0m\n\u001b[0;32m    108\u001b[0m              coverage_score \u001b[38;5;241m-\u001b[39m\u001b[38;5;241m=\u001b[39m \u001b[38;5;28mself\u001b[39m\u001b[38;5;241m.\u001b[39mweights[meal_index] \n\u001b[0;32m    109\u001b[0m     \u001b[38;5;28;01melse\u001b[39;00m:\n\u001b[0;32m    110\u001b[0m         \u001b[38;5;66;03m# if the recommended food item is not in the food items, penalize for the food role that is incorrectly recommended for \u001b[39;00m\n\u001b[1;32m--> 111\u001b[0m         coverage_score \u001b[38;5;241m-\u001b[39m\u001b[38;5;241m=\u001b[39m \u001b[38;5;28mself\u001b[39m\u001b[38;5;241m.\u001b[39mweights[\u001b[43mmeal_index\u001b[49m]  \u001b[38;5;66;03m# if {'Beverage': 'cake'} is recommended, penalize coverage_score for the weight that is assigned to 'Beverage'\u001b[39;00m\n\u001b[0;32m    112\u001b[0m \u001b[38;5;28;01melse\u001b[39;00m:\n\u001b[0;32m    113\u001b[0m     coverage_score\u001b[38;5;241m+\u001b[39m\u001b[38;5;241m=\u001b[39m\u001b[38;5;241m0\u001b[39m \u001b[38;5;66;03m# coverage is not affected if a role is not included in the recommendation\u001b[39;00m\n",
      "\u001b[1;31mUnboundLocalError\u001b[0m: cannot access local variable 'meal_index' where it is not associated with a value"
     ]
    }
   ],
   "source": [
    "# Test case 2: a meal recommendation has all food roles correctly fulfilled with the correct food items\n",
    "recommendation={'Beverage':'tea', 'Main Course': 'omelet', 'Side Dish': 'omelet', 'Dessert':'cake'}\n",
    "\n",
    "c.calc_coverage(recommendation)\n",
    "\n",
    "c.get_coverage()"
   ]
  },
  {
   "cell_type": "code",
   "execution_count": 6,
   "id": "79efc454",
   "metadata": {},
   "outputs": [
    {
     "data": {
      "text/plain": [
       "0.75"
      ]
     },
     "execution_count": 6,
     "metadata": {},
     "output_type": "execute_result"
    }
   ],
   "source": [
    "# Test case 3: a meal rec is incomplete, but for the food roles it does satisfy, it does so with the correct items.\n",
    "recommendation={'Beverage':'tea', 'Main Course': 'omelet', 'Dessert':'cake'}\n",
    "\n",
    "c.calc_coverage(recommendation)\n",
    "\n",
    "c.get_coverage()"
   ]
  },
  {
   "cell_type": "code",
   "execution_count": 7,
   "id": "b8335cd1",
   "metadata": {},
   "outputs": [
    {
     "data": {
      "text/plain": [
       "-0.75"
      ]
     },
     "execution_count": 7,
     "metadata": {},
     "output_type": "execute_result"
    }
   ],
   "source": [
    "# Test case 4: a meal rec recommends wrong food items to food roles.\n",
    "recommendation={'Beverage':'cake', 'Main Course': 'cake', 'Dessert':'tea'}\n",
    "\n",
    "c.calc_coverage(recommendation)\n",
    "\n",
    "c.get_coverage()"
   ]
  },
  {
   "cell_type": "code",
   "execution_count": 8,
   "id": "a187aba6",
   "metadata": {},
   "outputs": [
    {
     "data": {
      "text/plain": [
       "0.0"
      ]
     },
     "execution_count": 8,
     "metadata": {},
     "output_type": "execute_result"
    }
   ],
   "source": [
    "# Test case 5: different weights, a meal rec recommends wrong food items to food roles.\n",
    "recommendation={'Beverage':'cake', 'Dessert':'omelet', 'Main Course': 'tea'}\n",
    "\n",
    "c.set_new_weights([0,0,1,0])  # priority is the side dish\n",
    "\n",
    "c.calc_coverage(recommendation)\n",
    "\n",
    "c.get_coverage()"
   ]
  }
 ],
 "metadata": {
  "kernelspec": {
   "display_name": "Python 3 (ipykernel)",
   "language": "python",
   "name": "python3"
  },
  "language_info": {
   "codemirror_mode": {
    "name": "ipython",
    "version": 3
   },
   "file_extension": ".py",
   "mimetype": "text/x-python",
   "name": "python",
   "nbconvert_exporter": "python",
   "pygments_lexer": "ipython3",
   "version": "3.11.9"
  }
 },
 "nbformat": 4,
 "nbformat_minor": 5
}
