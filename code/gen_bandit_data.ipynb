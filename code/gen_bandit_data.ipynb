{
 "cells": [
  {
   "cell_type": "markdown",
   "id": "0f872aef",
   "metadata": {},
   "source": [
    "# Generating User Facts"
   ]
  },
  {
   "cell_type": "code",
   "execution_count": 1,
   "id": "7c187d5d",
   "metadata": {
    "scrolled": true
   },
   "outputs": [],
   "source": [
    "import pandas as pd\n",
    "import random\n",
    "import os\n",
    "import json"
   ]
  },
  {
   "cell_type": "code",
   "execution_count": 7,
   "id": "97702395-dafe-4fc5-8d5f-18b6291be8c5",
   "metadata": {},
   "outputs": [],
   "source": [
    "users = list(range(1, 25))\n",
    "user_facts = []\n",
    "food_facts = []\n",
    "pos_pairs = []\n",
    "neg_pairs = []"
   ]
  },
  {
   "cell_type": "code",
   "execution_count": 8,
   "id": "40ce9d2f-30f1-44ce-ac4b-5ac9b569af8e",
   "metadata": {},
   "outputs": [],
   "source": [
    "def partition(arr, num_pos, num_neg):\n",
    "    # Shuffle the array\n",
    "    random.shuffle(arr)\n",
    "    \n",
    "    # Determine the size of each partition\n",
    "    partition_size = len(arr) // 3\n",
    "    \n",
    "    # Create the three partitions\n",
    "    pos = arr[:num_pos]\n",
    "    neg = arr[num_pos: num_pos + num_neg]\n",
    "    remaining = arr[num_pos + num_neg:]\n",
    "    \n",
    "    return pos, neg, remaining"
   ]
  },
  {
   "cell_type": "code",
   "execution_count": 9,
   "id": "63f94ad2-63af-49be-a2ef-2764084d0fe8",
   "metadata": {},
   "outputs": [],
   "source": [
    "dairy_opinions = partition(users, 2, 2)\n",
    "meat_opinions = partition(users, 2, 2)\n",
    "nut_opinions = partition(users, 2, 2)"
   ]
  },
  {
   "cell_type": "code",
   "execution_count": 10,
   "id": "c8e463f9",
   "metadata": {},
   "outputs": [
    {
     "name": "stdout",
     "output_type": "stream",
     "text": [
      "preference(user_2, positive_dairy).\n",
      "preference(user_24, positive_dairy).\n",
      "preference(user_18, negative_dairy).\n",
      "preference(user_5, negative_dairy).\n",
      "preference(user_21, positive_meat).\n",
      "preference(user_14, positive_meat).\n",
      "preference(user_10, negative_meat).\n",
      "preference(user_3, negative_meat).\n",
      "preference(user_14, positive_nuts).\n",
      "preference(user_4, positive_nuts).\n",
      "preference(user_9, negative_nuts).\n",
      "preference(user_15, negative_nuts).\n",
      "([2, 24], [18, 5], [6, 22, 11, 10, 23, 21, 16, 3, 8, 14, 17, 20, 19, 1, 12, 4, 9, 13, 7, 15])\n",
      "([14, 4], [9, 15], [21, 3, 24, 2, 22, 11, 6, 10, 20, 16, 7, 8, 1, 5, 17, 23, 12, 18, 19, 13])\n",
      "([21, 14], [10, 3], [7, 19, 6, 4, 2, 23, 5, 16, 12, 24, 20, 1, 13, 18, 15, 17, 8, 22, 11, 9])\n"
     ]
    }
   ],
   "source": [
    "for feature_name, opinions in [('dairy',dairy_opinions),\n",
    "                               ('meat', meat_opinions), \n",
    "                               ('nuts', nut_opinions)]:\n",
    "    positive, negative, _ = opinions\n",
    "    for opinion, type_str in [(positive,'positive'),\n",
    "                           (negative, 'negative')]:\n",
    "        for user in opinion:\n",
    "            user_facts.append(f'preference(user_{user}, {type_str}_{feature_name}).')\n",
    "[print(user_fact) for user_fact in user_facts]\n",
    "print(dairy_opinions)\n",
    "print(nut_opinions)\n",
    "print(meat_opinions)\n"
   ]
  },
  {
   "cell_type": "markdown",
   "id": "a10593f4-56af-41d6-a284-6d949a90b31d",
   "metadata": {},
   "source": [
    "# Generating Food Facts"
   ]
  },
  {
   "cell_type": "code",
   "execution_count": 5,
   "id": "ee93cd4c-5e5e-4212-ba37-229930eaccb4",
   "metadata": {},
   "outputs": [],
   "source": [
    "# Loading data\n",
    "beverages = json.load(open('../items_data/beverages.json'))\n",
    "beverages = beverages['beverage_ids']\n",
    "\n",
    "mcdonalds = json.load(open('../items_data/mcdonalds.json'))\n",
    "mcdonalds = mcdonalds['recipe-ids']\n",
    "\n",
    "taco_bell = json.load(open('../items_data/taco_bell.json'))\n",
    "taco_bell = taco_bell['recipe-ids']\n",
    "\n",
    "treat_data=json.load(open('../items_data/recipe_repn.json'))\n",
    "treat_data = treat_data['recipe-ids']"
   ]
  },
  {
   "cell_type": "code",
   "execution_count": 6,
   "id": "a2a3a7bc-3f34-4b20-9a1a-4ac25a57cb40",
   "metadata": {},
   "outputs": [],
   "source": [
    "for data, is_bev in ((beverages, True), (mcdonalds, False), (taco_bell, False), (treat_data, False)):\n",
    "    for key, item_info in data.items():\n",
    "        if item_info['hasNuts']:\n",
    "            if is_bev:\n",
    "                food_facts.append(f'item(bev_{key}, has_nuts).')\n",
    "            else:\n",
    "                food_facts.append(f'item(food_{key}, has_nuts).')\n",
    "        if item_info['hasMeat']:\n",
    "            if is_bev:\n",
    "                food_facts.append(f'item(bev_{key}, has_meat).')\n",
    "            else:\n",
    "                food_facts.append(f'item(food_{key}, has_meat).')\n",
    "        if item_info['hasDairy']:\n",
    "            if is_bev:\n",
    "                food_facts.append(f'item(bev_{key}, has_dairy).')\n",
    "            else:\n",
    "                food_facts.append(f'item(food_{key}, has_dairy).')"
   ]
  },
  {
   "cell_type": "markdown",
   "id": "37933ba7-552e-40a3-ad49-5707c0b1cd25",
   "metadata": {},
   "source": [
    "# Generating positive/negative pairs"
   ]
  },
  {
   "cell_type": "code",
   "execution_count": 7,
   "id": "d8098f7a-aadc-48fd-9168-923e13612117",
   "metadata": {},
   "outputs": [],
   "source": [
    "pos_dairy, neg_dairy, _ = dairy_opinions\n",
    "pos_meat, neg_meat, _ = meat_opinions\n",
    "pos_nuts, neg_nuts, _ = nut_opinions\n",
    "\n",
    "pos_scores = 0\n",
    "neg_scores = 0\n",
    "zero_scores = 0\n",
    "\n",
    "for user in users:\n",
    "    for data, is_bev in ((beverages, True), (mcdonalds, False), (taco_bell, False), (treat_data, False)):\n",
    "        for key, item_info in data.items():\n",
    "            score = 0\n",
    "            if ((item_info['hasNuts'] and user in neg_nuts) or\n",
    "                 (item_info['hasDairy'] and user in neg_dairy) or\n",
    "                 (item_info['hasMeat'] and user in neg_meat)):\n",
    "                if is_bev:\n",
    "                    neg_pairs.append(f'recommendation(user_{user}, bev_{key}).')\n",
    "                else:\n",
    "                    neg_pairs.append(f'recommendation(user_{user}, food_{key}).')\n",
    "            else:\n",
    "                if is_bev:\n",
    "                    pos_pairs.append(f'recommendation(user_{user}, bev_{key}).')\n",
    "                else:\n",
    "                    pos_pairs.append(f'recommendation(user_{user}, food_{key}).')"
   ]
  },
  {
   "cell_type": "markdown",
   "id": "934eb66f-8fc2-4db7-9e07-37c1e8c5d2d8",
   "metadata": {},
   "source": [
    "# Splitting Train/Test"
   ]
  },
  {
   "cell_type": "code",
   "execution_count": 8,
   "id": "6c37870c-5ce6-40cf-8c9a-7b3950d55457",
   "metadata": {},
   "outputs": [],
   "source": [
    "def split_train_test(array, per_train=0.8):\n",
    "    # shuffle the array\n",
    "    random.shuffle(array)\n",
    "\n",
    "    # Determine the split index\n",
    "    split_index = int(per_train * len(array))\n",
    "    \n",
    "    # Split the array into train test\n",
    "    train = array[:split_index]\n",
    "    test = array[split_index:]\n",
    "    return train, test"
   ]
  },
  {
   "cell_type": "code",
   "execution_count": 9,
   "id": "78190849-3370-4147-b4a5-bcb0c5ed8c47",
   "metadata": {},
   "outputs": [],
   "source": [
    "user_train, user_test = split_train_test(user_facts) \n",
    "food_train, food_test = split_train_test(food_facts) \n",
    "train_pos, test_pos = split_train_test(pos_pairs) \n",
    "train_neg, test_neg = split_train_test(neg_pairs) "
   ]
  },
  {
   "cell_type": "code",
   "execution_count": 10,
   "id": "e636f4e9-a161-4e35-993a-8e7f7cb70727",
   "metadata": {},
   "outputs": [],
   "source": [
    "train_facts = user_train + food_train\n",
    "test_facts = user_test + food_test"
   ]
  },
  {
   "cell_type": "code",
   "execution_count": 12,
   "id": "9651d33f-0275-45cf-b952-3fd65050d16d",
   "metadata": {},
   "outputs": [],
   "source": [
    "for contents, file_name in [(train_facts, 'train_facts.txt'),\n",
    "                            (train_neg, 'train_neg.txt'),\n",
    "                            (train_pos, 'train_pos.txt'),\n",
    "                            (test_facts, 'test_facts.txt'),\n",
    "                            (test_neg, 'test_neg.txt'),\n",
    "                            (test_pos, 'test_pos.txt')]:\n",
    "    with open(f'../boosted_bandit/{file_name}', 'w') as file:\n",
    "        contents = [(line + '\\n') for line in contents]\n",
    "        file.writelines(contents)"
   ]
  },
  {
   "cell_type": "code",
   "execution_count": 2,
   "id": "84bda520-81d1-47c4-ba8a-04b246d91c05",
   "metadata": {},
   "outputs": [
    {
     "ename": "NameError",
     "evalue": "name 'user_facts' is not defined",
     "output_type": "error",
     "traceback": [
      "\u001b[1;31m---------------------------------------------------------------------------\u001b[0m",
      "\u001b[1;31mNameError\u001b[0m                                 Traceback (most recent call last)",
      "Cell \u001b[1;32mIn[2], line 2\u001b[0m\n\u001b[0;32m      1\u001b[0m \u001b[38;5;28;01mwith\u001b[39;00m \u001b[38;5;28mopen\u001b[39m(\u001b[38;5;124m'\u001b[39m\u001b[38;5;124m../boosted_bandit/user_facts.txt\u001b[39m\u001b[38;5;124m'\u001b[39m, \u001b[38;5;124m'\u001b[39m\u001b[38;5;124mw\u001b[39m\u001b[38;5;124m'\u001b[39m) \u001b[38;5;28;01mas\u001b[39;00m file:\n\u001b[1;32m----> 2\u001b[0m     contents \u001b[38;5;241m=\u001b[39m [(line \u001b[38;5;241m+\u001b[39m \u001b[38;5;124m'\u001b[39m\u001b[38;5;130;01m\\n\u001b[39;00m\u001b[38;5;124m'\u001b[39m) \u001b[38;5;28;01mfor\u001b[39;00m line \u001b[38;5;129;01min\u001b[39;00m \u001b[43muser_facts\u001b[49m]\n\u001b[0;32m      3\u001b[0m     file\u001b[38;5;241m.\u001b[39mwritelines(contents)\n",
      "\u001b[1;31mNameError\u001b[0m: name 'user_facts' is not defined"
     ]
    }
   ],
   "source": [
    "with open('../boosted_bandit/user_facts.txt', 'w') as file:\n",
    "    contents = [(line + '\\n') for line in user_facts]\n",
    "    file.writelines(contents)"
   ]
  }
 ],
 "metadata": {
  "kernelspec": {
   "display_name": "Python 3 (ipykernel)",
   "language": "python",
   "name": "python3"
  },
  "language_info": {
   "codemirror_mode": {
    "name": "ipython",
    "version": 3
   },
   "file_extension": ".py",
   "mimetype": "text/x-python",
   "name": "python",
   "nbconvert_exporter": "python",
   "pygments_lexer": "ipython3",
   "version": "3.9.12"
  }
 },
 "nbformat": 4,
 "nbformat_minor": 5
}
