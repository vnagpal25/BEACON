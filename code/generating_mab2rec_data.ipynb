{
 "cells": [
  {
   "cell_type": "markdown",
   "id": "0f872aef",
   "metadata": {},
   "source": [
    "# Generating User Features"
   ]
  },
  {
   "cell_type": "code",
   "execution_count": null,
   "id": "b5213a22",
   "metadata": {},
   "outputs": [],
   "source": [
    "\n",
    "'''\n",
    "33% - HasDairy-IsUserCompatible: N (67%: Y)\n",
    "33% - HasMeat-IsUserCompatible: N (67%: Y)\n",
    "33% - HasNuts-IsUserCompatible: N (67%: Y)\n",
    "'''"
   ]
  },
  {
   "cell_type": "code",
   "execution_count": 9,
   "id": "7c187d5d",
   "metadata": {},
   "outputs": [],
   "source": [
    "import pandas as pd\n",
    "import random"
   ]
  },
  {
   "cell_type": "code",
   "execution_count": 6,
   "id": "89c6d08f",
   "metadata": {},
   "outputs": [],
   "source": [
    "#100 users\n",
    "users = pd.DataFrame()\n",
    "users['user_id'] = list(range(1, 101))"
   ]
  },
  {
   "cell_type": "code",
   "execution_count": 18,
   "id": "7b5c5f10",
   "metadata": {},
   "outputs": [],
   "source": [
    "# Make 3 seperate partions of the data for each feature\n",
    "dairy_partition = [id -1 for id in random.sample(list(users['user_id']), 33)]\n",
    "meat_partition  = [id -1 for id in random.sample(list(users['user_id']), 33)]\n",
    "nuts_partition  = [id -1 for id in random.sample(list(users['user_id']), 33)]"
   ]
  },
  {
   "cell_type": "code",
   "execution_count": 20,
   "id": "d1256975",
   "metadata": {},
   "outputs": [],
   "source": [
    "users.loc[users.index.isin(dairy_partition), 'dairyCompatible'] = 0\n",
    "users.loc[users.index.isin(meat_partition),  'meatCompatible'] = 0\n",
    "users.loc[users.index.isin(nuts_partition),  'nutsCompatible'] = 0\n",
    "\n",
    "users.loc[~users.index.isin(dairy_partition), 'dairyCompatible'] = 1\n",
    "users.loc[~users.index.isin(meat_partition),  'meatCompatible'] = 1\n",
    "users.loc[~users.index.isin(nuts_partition),  'nutsCompatible'] = 1"
   ]
  },
  {
   "cell_type": "code",
   "execution_count": 22,
   "id": "08d11da7",
   "metadata": {},
   "outputs": [
    {
     "data": {
      "text/html": [
       "<div>\n",
       "<style scoped>\n",
       "    .dataframe tbody tr th:only-of-type {\n",
       "        vertical-align: middle;\n",
       "    }\n",
       "\n",
       "    .dataframe tbody tr th {\n",
       "        vertical-align: top;\n",
       "    }\n",
       "\n",
       "    .dataframe thead th {\n",
       "        text-align: right;\n",
       "    }\n",
       "</style>\n",
       "<table border=\"1\" class=\"dataframe\">\n",
       "  <thead>\n",
       "    <tr style=\"text-align: right;\">\n",
       "      <th></th>\n",
       "      <th>user_id</th>\n",
       "      <th>dairyCompatible</th>\n",
       "      <th>meatCompatible</th>\n",
       "      <th>nutsCompatible</th>\n",
       "    </tr>\n",
       "  </thead>\n",
       "  <tbody>\n",
       "    <tr>\n",
       "      <th>0</th>\n",
       "      <td>1</td>\n",
       "      <td>1.0</td>\n",
       "      <td>1.0</td>\n",
       "      <td>1.0</td>\n",
       "    </tr>\n",
       "    <tr>\n",
       "      <th>1</th>\n",
       "      <td>2</td>\n",
       "      <td>0.0</td>\n",
       "      <td>1.0</td>\n",
       "      <td>1.0</td>\n",
       "    </tr>\n",
       "    <tr>\n",
       "      <th>2</th>\n",
       "      <td>3</td>\n",
       "      <td>1.0</td>\n",
       "      <td>1.0</td>\n",
       "      <td>1.0</td>\n",
       "    </tr>\n",
       "    <tr>\n",
       "      <th>3</th>\n",
       "      <td>4</td>\n",
       "      <td>1.0</td>\n",
       "      <td>1.0</td>\n",
       "      <td>1.0</td>\n",
       "    </tr>\n",
       "    <tr>\n",
       "      <th>4</th>\n",
       "      <td>5</td>\n",
       "      <td>0.0</td>\n",
       "      <td>1.0</td>\n",
       "      <td>1.0</td>\n",
       "    </tr>\n",
       "  </tbody>\n",
       "</table>\n",
       "</div>"
      ],
      "text/plain": [
       "   user_id  dairyCompatible  meatCompatible  nutsCompatible\n",
       "0        1              1.0             1.0             1.0\n",
       "1        2              0.0             1.0             1.0\n",
       "2        3              1.0             1.0             1.0\n",
       "3        4              1.0             1.0             1.0\n",
       "4        5              0.0             1.0             1.0"
      ]
     },
     "execution_count": 22,
     "metadata": {},
     "output_type": "execute_result"
    }
   ],
   "source": [
    "users.head()"
   ]
  },
  {
   "cell_type": "markdown",
   "id": "19a17c25",
   "metadata": {},
   "source": [
    "# Generating Food Features\n"
   ]
  },
  {
   "cell_type": "code",
   "execution_count": null,
   "id": "961b5ee2",
   "metadata": {},
   "outputs": [],
   "source": [
    "meals = pd.DataFrame()\n"
   ]
  }
 ],
 "metadata": {
  "kernelspec": {
   "display_name": "Python 3 (ipykernel)",
   "language": "python",
   "name": "python3"
  },
  "language_info": {
   "codemirror_mode": {
    "name": "ipython",
    "version": 3
   },
   "file_extension": ".py",
   "mimetype": "text/x-python",
   "name": "python",
   "nbconvert_exporter": "python",
   "pygments_lexer": "ipython3",
   "version": "3.9.12"
  }
 },
 "nbformat": 4,
 "nbformat_minor": 5
}
