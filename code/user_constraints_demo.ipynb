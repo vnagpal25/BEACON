{
 "cells": [
  {
   "cell_type": "markdown",
   "id": "61606d86",
   "metadata": {},
   "source": [
    "# User Constraints Demo Notebook"
   ]
  },
  {
   "cell_type": "code",
   "execution_count": null,
   "id": "18618757",
   "metadata": {},
   "outputs": [],
   "source": [
    "\"\"\"\n",
    " BSD 2-Clause License\n",
    "\n",
    " Copyright (c) 2024, AI4Society Research Group\n",
    "\n",
    " Redistribution and use in source and binary forms, with or without\n",
    " modification, are permitted provided that the following conditions are met:\n",
    "\n",
    " 1. Redistributions of source code must retain the above copyright notice, this\n",
    "    list of conditions and the following disclaimer.\n",
    "\n",
    " 2. Redistributions in binary form must reproduce the above copyright notice,\n",
    "    this list of conditions and the following disclaimer in the documentation\n",
    "    and/or other materials provided with the distribution.\n",
    "\n",
    " THIS SOFTWARE IS PROVIDED BY THE COPYRIGHT HOLDERS AND CONTRIBUTORS \"AS IS\"\n",
    " AND ANY EXPRESS OR IMPLIED WARRANTIES, INCLUDING, BUT NOT LIMITED TO, THE\n",
    " IMPLIED WARRANTIES OF MERCHANTABILITY AND FITNESS FOR A PARTICULAR PURPOSE ARE\n",
    " DISCLAIMED. IN NO EVENT SHALL THE COPYRIGHT HOLDER OR CONTRIBUTORS BE LIABLE\n",
    " FOR ANY DIRECT, INDIRECT, INCIDENTAL, SPECIAL, EXEMPLARY, OR CONSEQUENTIAL\n",
    " DAMAGES (INCLUDING, BUT NOT LIMITED TO, PROCUREMENT OF SUBSTITUTE GOODS OR\n",
    " SERVICES; LOSS OF USE, DATA, OR PROFITS; OR BUSINESS INTERRUPTION) HOWEVER\n",
    " CAUSED AND ON ANY THEORY OF LIABILITY, WHETHER IN CONTRACT, STRICT LIABILITY,\n",
    " OR TORT (INCLUDING NEGLIGENCE OR OTHERWISE) ARISING IN ANY WAY OUT OF THE USE\n",
    " OF THIS SOFTWARE, EVEN IF ADVISED OF THE POSSIBILITY OF SUCH DAMAGE.\n",
    "\"\"\""
   ]
  },
  {
   "cell_type": "markdown",
   "id": "e19c03c9",
   "metadata": {},
   "source": [
    "## Import class and set user configuration\n",
    "- Import class.\n",
    "- Set and define the number of constraints.\n",
    "- For each constraint, let user determine whether or not they want that specific item in their meal. Should they not provide a preference, the system assumes that they are neutral towards that preference.\n",
    "\n",
    "Note: Do note that the code will raise warnings if the number of constraints specified do not match the number of constraints defined."
   ]
  },
  {
   "cell_type": "code",
   "execution_count": 1,
   "id": "964c7607",
   "metadata": {},
   "outputs": [
    {
     "name": "stdout",
     "output_type": "stream",
     "text": [
      "Class initiated\n"
     ]
    }
   ],
   "source": [
    "# Import the class\n",
    "import sys\n",
    "sys.path.insert(1, '../metrics/')\n",
    "import user_constraints as constraints\n",
    "\n",
    "# Initialize class\n",
    "c=constraints.User_Constraints()"
   ]
  },
  {
   "cell_type": "code",
   "execution_count": 2,
   "id": "fa6b43d9",
   "metadata": {},
   "outputs": [
    {
     "data": {
      "text/plain": [
       "3"
      ]
     },
     "execution_count": 2,
     "metadata": {},
     "output_type": "execute_result"
    }
   ],
   "source": [
    "# Define user configuration with N constraints\n",
    "c.set_num_constraints(3)\n",
    "\n",
    "# Return how many constraints a user has specified\n",
    "c.get_num_constraints()"
   ]
  },
  {
   "cell_type": "code",
   "execution_count": 3,
   "id": "f23113ca",
   "metadata": {},
   "outputs": [
    {
     "data": {
      "text/plain": [
       "{'HasDairy': 0, 'HasMeat': -1, 'HasNuts': -1}"
      ]
     },
     "execution_count": 3,
     "metadata": {},
     "output_type": "execute_result"
    }
   ],
   "source": [
    "# Define preferences for each constraint. -1: No, 0: Neutral, 1: Yes\n",
    "c.define_constraints({'HasMeat': -1, 'HasNuts': -1})\n",
    "\n",
    "# See all constraints\n",
    "c.get_constraints()"
   ]
  },
  {
   "cell_type": "markdown",
   "id": "b7245b70",
   "metadata": {},
   "source": [
    "## Add new constraints, remove any if needed."
   ]
  },
  {
   "cell_type": "code",
   "execution_count": 4,
   "id": "e4db2348",
   "metadata": {},
   "outputs": [
    {
     "data": {
      "text/plain": [
       "{'HasDairy': 0, 'HasMeat': -1, 'HasNuts': -1, 'HasFish': 1}"
      ]
     },
     "execution_count": 4,
     "metadata": {},
     "output_type": "execute_result"
    }
   ],
   "source": [
    "# Add new constraint\n",
    "c.add_new_constraint('HasFish', 1)\n",
    "\n",
    "# See all constraints\n",
    "c.get_constraints()"
   ]
  },
  {
   "cell_type": "code",
   "execution_count": 5,
   "id": "d34521d8",
   "metadata": {},
   "outputs": [
    {
     "data": {
      "text/plain": [
       "{'HasDairy': 0, 'HasMeat': -1, 'HasNuts': -1}"
      ]
     },
     "execution_count": 5,
     "metadata": {},
     "output_type": "execute_result"
    }
   ],
   "source": [
    "# Remove a constraint\n",
    "c.remove_constraint('HasFish')\n",
    "\n",
    "# See all constraints\n",
    "c.get_constraints()"
   ]
  },
  {
   "cell_type": "markdown",
   "id": "d4a304f7",
   "metadata": {},
   "source": [
    "# Add food items with annotated food roles.\n",
    "- A food item is annotated with any common warnings. E.g., 'HasNuts', 'HasMeat', etc.\n",
    "- A food item that is NOT annotated with such warnings is implied to not have any. "
   ]
  },
  {
   "cell_type": "code",
   "execution_count": 6,
   "id": "9057a403",
   "metadata": {},
   "outputs": [
    {
     "data": {
      "text/plain": [
       "{'omelet': ['HasEggs'],\n",
       " 'trail mix': ['HasNuts'],\n",
       " 'granola bar': ['HasNuts'],\n",
       " 'walnut cake': ['HasNuts'],\n",
       " 'black beans taco': [],\n",
       " 'cheese pizza': ['HasDairy'],\n",
       " 'creamy salmon pasta': ['HasDairy', 'HasFish'],\n",
       " 'chicken pasta': ['HasMeat'],\n",
       " 'fruit tart': [],\n",
       " 'tea': []}"
      ]
     },
     "execution_count": 6,
     "metadata": {},
     "output_type": "execute_result"
    }
   ],
   "source": [
    "# Add a single annotated food item\n",
    "c.add_annotated_food_item('omelet', ['HasEggs'])\n",
    "\n",
    "# Add multiple annotated food items at once\n",
    "c.add_multiple_annotated_food_items({'trail mix': ['HasNuts'], \n",
    "                                    'granola bar': ['HasNuts'], \n",
    "                                    'walnut cake': ['HasNuts'],\n",
    "                                    'black beans taco': [], \n",
    "                                    'cheese pizza': ['HasDairy'], \n",
    "                                    'creamy salmon pasta': ['HasDairy', 'HasFish'],\n",
    "                                    'chicken pasta': ['HasMeat'],\n",
    "                                    'fruit tart': [],\n",
    "                                    'tea':[]\n",
    "                                   })\n",
    "\n",
    "# See all food items\n",
    "c.get_annotated_food_items()"
   ]
  },
  {
   "cell_type": "markdown",
   "id": "0435dd84",
   "metadata": {},
   "source": [
    "## Calculating user constraints score\n",
    "\n",
    "A user can input their preferences to the system in the following format. For a food item 'X':\n",
    "- -1: user does not want to be recommended X in their meal.\n",
    "- 0: user is neutral towards X being recommended in their meal.\n",
    "- 1: user is positive towards X being recommended in their meal. They prefer it, and depending on the type of constraint we are using, we may or may not penalize a meal for including / not including that item.\n",
    "\n",
    "We have two types of constraints:\n",
    "1. Hard constraints - food items that a user states that he explicitly states that he wants. Denoted as -1 or 1.\n",
    "2. Soft constraints - food items that a user states having a preference to. Denoted as 1.\n",
    "\n",
    "If the `hard_constraints` flag is enabled, then we penalize a meal if it does not include the constraints user has provided. E.g., for a constraint set such as {'HasDairy': 0, 'HasMeat': -1, 'HasNuts': 1}:\n",
    "- Regardless of whether a recommendation includes or does not include dairy items, we do not take any action.\n",
    "- If even one of the items in a recommendation contains meat, we penalize the recommendation.\n",
    "- If at least one of the items in a recommendation does NOT contain nuts, we penalize the recommendation.\n",
    "\n",
    "If the `hard_constraints` flag is disabled, then we penalize a meal only if it does not satisfy the negative constraints user has provided. E.g., for a constraint set such as {'HasDairy': 0, 'HasMeat': -1, 'HasNuts': 1}:\n",
    "- Regardless of whether a recommendation includes or does not include dairy items, we do not take any action.\n",
    "- Regardless of whether a recommendation includes or does not include nut items, we do not take any action.\n",
    "- But if even one of the items in a recommendation contains meat, then we penalize the recommendation."
   ]
  },
  {
   "cell_type": "code",
   "execution_count": 7,
   "id": "1d17e34b",
   "metadata": {},
   "outputs": [
    {
     "data": {
      "text/plain": [
       "1.0"
      ]
     },
     "execution_count": 7,
     "metadata": {},
     "output_type": "execute_result"
    }
   ],
   "source": [
    "# Test case 1: a meal rec is empty\n",
    "recommendation={}\n",
    "\n",
    "c.calc_config(recommendation)\n",
    "\n",
    "c.get_config()"
   ]
  },
  {
   "cell_type": "code",
   "execution_count": 8,
   "id": "916128e1",
   "metadata": {},
   "outputs": [
    {
     "data": {
      "text/plain": [
       "1.0"
      ]
     },
     "execution_count": 8,
     "metadata": {},
     "output_type": "execute_result"
    }
   ],
   "source": [
    "# Test case 2: a meal recommendation has all preferences correctly adhered to\n",
    "c.define_constraints({'HasMeat': -1, \n",
    "                      'HasNuts': -1, \n",
    "                      'HasDairy': 0})\n",
    "\n",
    "recommendation={'Beverage':'tea', \n",
    "                'Main Course': 'omelet', \n",
    "                'Side Dish': 'black beans taco', \n",
    "                'Dessert':'fruit'}\n",
    "\n",
    "c.calc_config(recommendation)\n",
    "\n",
    "c.get_config()"
   ]
  },
  {
   "cell_type": "code",
   "execution_count": 9,
   "id": "79efc454",
   "metadata": {},
   "outputs": [
    {
     "data": {
      "text/plain": [
       "0.6666666666666667"
      ]
     },
     "execution_count": 9,
     "metadata": {},
     "output_type": "execute_result"
    }
   ],
   "source": [
    "# Test case 3: a meal recommendation violates a constraint\n",
    "recommendation={'Beverage':'tea', \n",
    "                'Main Course': 'omelet', \n",
    "                'Side Dish': 'black beans taco', \n",
    "                'Dessert':'walnut cake'}   # <--- violated constraint\n",
    "\n",
    "c.calc_config(recommendation)\n",
    "\n",
    "c.get_config()"
   ]
  },
  {
   "cell_type": "code",
   "execution_count": 10,
   "id": "b8335cd1",
   "metadata": {},
   "outputs": [
    {
     "data": {
      "text/plain": [
       "0.0"
      ]
     },
     "execution_count": 10,
     "metadata": {},
     "output_type": "execute_result"
    }
   ],
   "source": [
    "# Test case 4: a meal recommendation violates all constraints\n",
    "c.define_constraints({'HasMeat': -1, \n",
    "                      'HasNuts': -1, \n",
    "                      'HasDairy': -1})\n",
    "\n",
    "recommendation={'Main Course': 'cheese pizza', \n",
    "                'Side Dish': 'chicken pasta', \n",
    "                'Dessert':'walnut cake'}   \n",
    "\n",
    "c.calc_config(recommendation)\n",
    "\n",
    "c.get_config()"
   ]
  },
  {
   "cell_type": "code",
   "execution_count": 11,
   "id": "a187aba6",
   "metadata": {},
   "outputs": [
    {
     "data": {
      "text/plain": [
       "1.0"
      ]
     },
     "execution_count": 11,
     "metadata": {},
     "output_type": "execute_result"
    }
   ],
   "source": [
    "# Test case 5: a meal recommendation satisfies all constraints\n",
    "c.define_constraints({'HasMeat': 1, \n",
    "                      'HasNuts': 1,  \n",
    "                      'HasDairy': 1})\n",
    "\n",
    "recommendation={'Main Course': 'omelet', \n",
    "                'Side Dish': 'black bean taco', \n",
    "                'Dessert':'fruit tart'}   \n",
    "\n",
    "c.calc_config(recommendation)\n",
    "\n",
    "c.get_config()"
   ]
  },
  {
   "cell_type": "code",
   "execution_count": 12,
   "id": "6df20a7b",
   "metadata": {},
   "outputs": [
    {
     "data": {
      "text/plain": [
       "0.0"
      ]
     },
     "execution_count": 12,
     "metadata": {},
     "output_type": "execute_result"
    }
   ],
   "source": [
    "# Test case 6: same as test case #5 but the hard_constraints flag is ENABLED and meal rec violates all constraints \n",
    "c.define_constraints({'HasMeat': 1, \n",
    "                      'HasNuts': 1,  \n",
    "                      'HasDairy': 1})\n",
    "\n",
    "recommendation={'Main Course': 'omelet', \n",
    "                'Side Dish': 'black bean taco', \n",
    "                'Dessert':'fruit tart'}   \n",
    "\n",
    "c.calc_config(recommendation, hard_constraints=True)\n",
    "\n",
    "c.get_config()"
   ]
  }
 ],
 "metadata": {
  "kernelspec": {
   "display_name": "Python 3 (ipykernel)",
   "language": "python",
   "name": "python3"
  },
  "language_info": {
   "codemirror_mode": {
    "name": "ipython",
    "version": 3
   },
   "file_extension": ".py",
   "mimetype": "text/x-python",
   "name": "python",
   "nbconvert_exporter": "python",
   "pygments_lexer": "ipython3",
   "version": "3.11.9"
  }
 },
 "nbformat": 4,
 "nbformat_minor": 5
}
