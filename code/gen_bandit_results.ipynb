{
 "cells": [
  {
   "cell_type": "code",
   "execution_count": 24,
   "id": "47c26edd-5f23-4232-975c-aebc3b19b3af",
   "metadata": {},
   "outputs": [],
   "source": [
    "import re\n",
    "import pprint"
   ]
  },
  {
   "cell_type": "code",
   "execution_count": 25,
   "id": "5decd0e0-d632-4ec1-b906-18cf26255260",
   "metadata": {},
   "outputs": [],
   "source": [
    "with open('../boosted_bandit/bandit_results.db', 'r') as file:\n",
    "    recs = file.readlines()"
   ]
  },
  {
   "cell_type": "code",
   "execution_count": 26,
   "id": "32d8b795-c299-45d8-87d6-c08c42ed977b",
   "metadata": {},
   "outputs": [],
   "source": [
    "pos_recs = [rec for rec in recs if not rec.startswith('!')]\n",
    "neg_recs = [rec[1:] for rec in recs if rec.startswith('!')]\n",
    "all_recs = pos_recs + neg_recs"
   ]
  },
  {
   "cell_type": "code",
   "execution_count": 27,
   "id": "c4a60aed-219d-4766-8b3d-76319f8a9935",
   "metadata": {},
   "outputs": [],
   "source": [
    "pattern = r'\\d+\\.?\\d*'\n",
    "items_and_probs = [tuple(re.findall(pattern, rec)) for rec in all_recs]"
   ]
  },
  {
   "cell_type": "code",
   "execution_count": 28,
   "id": "90adf0cb-44c3-4222-a219-04636a65e60d",
   "metadata": {},
   "outputs": [],
   "source": [
    "bev_items_probs = [rec for i, rec in enumerate(items_and_probs) if 'bev' in all_recs[i]]\n",
    "food_items_probs = [rec for i, rec in enumerate(items_and_probs) if 'food' in all_recs[i]]"
   ]
  },
  {
   "cell_type": "code",
   "execution_count": 29,
   "id": "ac54cd10-8b20-4fef-adf5-7c0c9b0d7196",
   "metadata": {},
   "outputs": [
    {
     "data": {
      "text/plain": [
       "'\\nbevs = {\\n1: [(item, prob), (item, prob), ...],\\n2: [],\\n...,\\n25: []\\n}\\n'"
      ]
     },
     "execution_count": 29,
     "metadata": {},
     "output_type": "execute_result"
    }
   ],
   "source": [
    "'''\n",
    "bevs = {\n",
    "1: [(item, prob), (item, prob), ...],\n",
    "2: [],\n",
    "...,\n",
    "25: []\n",
    "}\n",
    "'''"
   ]
  },
  {
   "cell_type": "code",
   "execution_count": 30,
   "id": "ff1b7ef9-0520-4080-908b-2f3af13f0a76",
   "metadata": {},
   "outputs": [],
   "source": [
    "user_bevs = {i:[] for i in range(1, 26)}\n",
    "user_foods = {i:[] for i in range(1, 26)}"
   ]
  },
  {
   "cell_type": "code",
   "execution_count": 31,
   "id": "f53b9026-44d6-4ee4-b87e-6aba5011f9dd",
   "metadata": {},
   "outputs": [],
   "source": [
    "for user, bev, prob in bev_items_probs:\n",
    "    user_bevs[int(user)].append((bev, float(prob)))\n",
    "    \n",
    "for user, food, prob in food_items_probs:\n",
    "    user_foods[int(user)].append((food, float(prob)))"
   ]
  },
  {
   "cell_type": "code",
   "execution_count": 32,
   "id": "30c97906-112c-4cac-a144-8975d5b3c550",
   "metadata": {},
   "outputs": [],
   "source": [
    "rec_user_bevs = {i:[] for i in range(1, 26)}\n",
    "rec_user_foods = {i:[] for i in range(1, 26)}"
   ]
  },
  {
   "cell_type": "code",
   "execution_count": 33,
   "id": "70c8d18a-b154-42cd-8e4e-f667b446b406",
   "metadata": {},
   "outputs": [],
   "source": [
    "for user, bevs in user_bevs.items():\n",
    "    highest_prob = 0\n",
    "    for bev, prob in bevs:\n",
    "        if prob > highest_prob:\n",
    "            highest_prob = prob\n",
    "    highest_bevs = [bev for bev, prob in bevs if prob == highest_prob]\n",
    "    rec_user_bevs[user] = highest_bevs\n",
    "\n",
    "for user, foods in user_foods.items():\n",
    "    highest_prob = 0\n",
    "    for food, prob in foods:\n",
    "        if prob > highest_prob:\n",
    "            highest_prob = prob\n",
    "    highest_foods = [food for food, prob in foods if prob == highest_prob]\n",
    "    rec_user_foods[user] = highest_foods\n"
   ]
  },
  {
   "cell_type": "code",
   "execution_count": 35,
   "id": "78610f9c",
   "metadata": {},
   "outputs": [
    {
     "data": {
      "text/plain": [
       "{1: ['22', '9'],\n",
       " 2: ['21', '6', '20', '18', '10'],\n",
       " 3: ['21', '1'],\n",
       " 4: ['20', '21', '13', '7', '12', '10', '18', '4', '24'],\n",
       " 5: ['2', '11'],\n",
       " 6: ['5', '19', '25', '6', '24'],\n",
       " 7: ['19', '11', '12', '18', '9', '13'],\n",
       " 8: ['16', '24', '5', '19', '9'],\n",
       " 9: ['3', '20', '25', '2'],\n",
       " 10: ['14', '5', '3', '24', '8', '21', '4'],\n",
       " 11: ['2', '21', '25', '19', '14', '15', '9'],\n",
       " 12: ['23', '8', '5', '11', '4'],\n",
       " 13: ['15', '19', '4'],\n",
       " 14: ['1', '16', '6'],\n",
       " 15: ['25', '15', '24', '5'],\n",
       " 16: ['8', '11', '2', '3', '21', '25', '1'],\n",
       " 17: ['13', '9', '2', '4'],\n",
       " 18: ['18', '20', '24', '10', '1', '19'],\n",
       " 19: ['21', '18', '16', '11', '12'],\n",
       " 20: ['8', '20', '5', '14'],\n",
       " 21: ['7', '24', '14', '5', '1', '19', '11'],\n",
       " 22: ['9', '4', '21', '6', '15', '25', '18', '5', '20'],\n",
       " 23: ['11', '19', '20'],\n",
       " 24: ['8', '1', '9', '12', '6', '11'],\n",
       " 25: ['5', '3', '4', '19', '25']}"
      ]
     },
     "execution_count": 35,
     "metadata": {},
     "output_type": "execute_result"
    }
   ],
   "source": [
    "rec_user_bevs"
   ]
  },
  {
   "cell_type": "markdown",
   "id": "f31dc5a9",
   "metadata": {},
   "source": [
    "# Reading User Data"
   ]
  },
  {
   "cell_type": "code",
   "execution_count": 15,
   "id": "b4f836e2",
   "metadata": {},
   "outputs": [],
   "source": [
    "import json\n",
    "import random"
   ]
  },
  {
   "cell_type": "code",
   "execution_count": 23,
   "id": "4ce11736",
   "metadata": {},
   "outputs": [],
   "source": [
    "for i in range(1, 26):\n",
    "    user_info = open(f'../user_input_data/user_{i}.json', 'r')\n",
    "    bevs = rec_user_bevs[i]\n",
    "    foods = rec_user_bevs[i]\n",
    "    \n",
    "    rec = [{\"day 1\": [{\"meal_name\": \"breakfast\", \"meal_time\": \"9:00\", \"Beverage\": \"\", \"Main Course\": \"\"}, \n",
    "                      {\"meal_name\": \"lunch\", \"meal_time\": \"13:00\", \"Beverage\": \"\", \"Main Course\": \"\", \"Side\": \"\"}, \n",
    "                      {\"meal_name\": \"dinner\", \"meal_time\": \"20:00\", \"Beverage\": \"6\", \"Main Course\": \"\", \"Dessert\": \"\", \"Side\": \"\"}]}]\n",
    "    for j, day in enumerate(rec, 1):\n",
    "        day_rec = day[f'day {j}']\n",
    "        for meal in day_rec:\n",
    "            if \"Beverage\" in meal:\n",
    "                meal[\"Beverage\"] = random.choice(bevs)\n",
    "            \n",
    "            if \"Main Course\" in meal:\n",
    "                meal[\"Main Course\"] = random.choice(foods)\n",
    "            \n",
    "            if \"Side\" in meal:\n",
    "                meal[\"Side\"] = random.choice(foods)\n",
    "            \n",
    "            if \"Dessert\" in meal:\n",
    "                meal[\"Dessert\"] = random.choice(foods)\n",
    "            \n",
    "        \n",
    "    rec = {\"meal_plan\":rec}\n",
    "    with open(f'../recommendations/bandit_recs/recommendation_user_{i}.json', 'w') as file:\n",
    "        json.dump(rec, file, indent=2)"
   ]
  },
  {
   "cell_type": "code",
   "execution_count": null,
   "id": "ccca4b1f",
   "metadata": {},
   "outputs": [],
   "source": []
  }
 ],
 "metadata": {
  "kernelspec": {
   "display_name": "Python 3 (ipykernel)",
   "language": "python",
   "name": "python3"
  },
  "language_info": {
   "codemirror_mode": {
    "name": "ipython",
    "version": 3
   },
   "file_extension": ".py",
   "mimetype": "text/x-python",
   "name": "python",
   "nbconvert_exporter": "python",
   "pygments_lexer": "ipython3",
   "version": "3.9.12"
  }
 },
 "nbformat": 4,
 "nbformat_minor": 5
}
