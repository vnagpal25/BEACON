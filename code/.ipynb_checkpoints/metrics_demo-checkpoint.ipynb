{
 "cells": [
  {
   "cell_type": "code",
   "execution_count": 1,
   "metadata": {},
   "outputs": [],
   "source": [
    "import json\n",
    "import random\n",
    "from meal_config import MealConfig\n",
    "from meal_info import MealInfo\n",
    "from meal_recommender import MealRecommender"
   ]
  },
  {
   "cell_type": "code",
   "execution_count": 2,
   "metadata": {
    "scrolled": true
   },
   "outputs": [
    {
     "name": "stdout",
     "output_type": "stream",
     "text": [
      "{'day 1': {'duplicate_day_score': 0.7083333333333334,\n",
      "           'duplicate_meal_scores': [1.0, 1.0, 1.0]},\n",
      " 'day 2': {'duplicate_day_score': 1.0,\n",
      "           'duplicate_meal_scores': [1.0, 1.0, 0.5]},\n",
      " 'day 3': {'duplicate_day_score': 1.0,\n",
      "           'duplicate_meal_scores': [1.0, 1.0, 1.0]}}\n",
      "Class initiated\n",
      "Class initiated\n",
      "Class initiated\n",
      "Class initiated\n",
      "Class initiated\n",
      "Class initiated\n",
      "Class initiated\n",
      "Class initiated\n",
      "Class initiated\n"
     ]
    }
   ],
   "source": [
    "# Initialize recommender for particular user\n",
    "user_meal_recommender = MealRecommender(\"user1.json\")\n",
    "\n",
    "# Create Personalized Meal Plan\n",
    "meal_plan = user_meal_recommender.RunMealRecStrat()\n",
    "\n",
    "# Write Results to JSON\n",
    "# user_meal_recommender.WriteMealRecs(meal_plan)\n",
    "\n",
    "user_meal_recommender.SetRecommendation(\"sample.json\")\n",
    "\n",
    "user_meal_recommender.EvaluateRecs()"
   ]
  },
  {
   "cell_type": "code",
   "execution_count": 3,
   "metadata": {},
   "outputs": [
    {
     "name": "stdout",
     "output_type": "stream",
     "text": [
      "1.2824074074074074\n"
     ]
    }
   ],
   "source": [
    "print(user_meal_recommender.goodness_score)"
   ]
  },
  {
   "cell_type": "code",
   "execution_count": 4,
   "metadata": {},
   "outputs": [
    {
     "name": "stdout",
     "output_type": "stream",
     "text": [
      "1.0\n"
     ]
    }
   ],
   "source": [
    "print(user_meal_recommender.config_score)"
   ]
  },
  {
   "cell_type": "code",
   "execution_count": 5,
   "metadata": {},
   "outputs": [
    {
     "name": "stdout",
     "output_type": "stream",
     "text": [
      "None\n"
     ]
    }
   ],
   "source": [
    "print(user_meal_recommender.dup_meal_score)"
   ]
  },
  {
   "cell_type": "code",
   "execution_count": 6,
   "metadata": {},
   "outputs": [
    {
     "name": "stdout",
     "output_type": "stream",
     "text": [
      "1.0\n"
     ]
    }
   ],
   "source": [
    "print(user_meal_recommender.coverage_score)"
   ]
  },
  {
   "cell_type": "code",
   "execution_count": null,
   "metadata": {},
   "outputs": [],
   "source": []
  },
  {
   "cell_type": "code",
   "execution_count": null,
   "metadata": {},
   "outputs": [],
   "source": []
  }
 ],
 "metadata": {
  "kernelspec": {
   "display_name": "Python 3 (ipykernel)",
   "language": "python",
   "name": "python3"
  },
  "language_info": {
   "codemirror_mode": {
    "name": "ipython",
    "version": 3
   },
   "file_extension": ".py",
   "mimetype": "text/x-python",
   "name": "python",
   "nbconvert_exporter": "python",
   "pygments_lexer": "ipython3",
   "version": "3.9.12"
  }
 },
 "nbformat": 4,
 "nbformat_minor": 2
}
