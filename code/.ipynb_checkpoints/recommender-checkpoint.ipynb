{
 "cells": [
  {
   "cell_type": "code",
   "execution_count": 4,
   "id": "b2261fd0",
   "metadata": {},
   "outputs": [],
   "source": [
    "import json"
   ]
  },
  {
   "cell_type": "code",
   "execution_count": 22,
   "id": "3763db2a",
   "metadata": {},
   "outputs": [
    {
     "name": "stdout",
     "output_type": "stream",
     "text": [
      "egg-drop-chicken-noodle-soup\n",
      "my-scotch-eggs\n",
      "egg-in-an-avocado-hole\n",
      "delicious-chocolate-bark-recipe\n",
      "bacon-candy\n",
      "bacon-and-egg-pie\n",
      "how-to-make-egg-salad\n",
      "peekaboo-sugar-eggs\n",
      "egg-bundles\n",
      "cadbury-creme-egg-rolls\n",
      "mini-egg-pie\n",
      "2-ingredient-avocado-egg-salad\n",
      "how-to-make-egg-omelettes\n",
      "bunny-egg-salad\n",
      "deviled-egg-salad\n",
      "dinosaur-inspired-by-mikeasaurus\n",
      "bacon-asparagus-and-egg-bake\n",
      "how-to-make-chinese-egg-tarts\n",
      "egg-filled-bread-roll\n",
      "chocolate-peanut-butter\n",
      "supremely-spicy-scrambled-eggs\n",
      "peekaboo-sugar\n",
      "eggs-and-bacon-the-perfect-quick-paleo-meal\n",
      "bakedfriedpan-fried-scotch-egg\n",
      "deviled-eggs-with-smoked-salmon-and-capers\n"
     ]
    }
   ],
   "source": [
    "# Read Recipe dataset\n",
    "with open('../data/recipe_repn.json', 'r') as file:\n",
    "    recipes = json.load(file)\n",
    "    recipes = recipes['recipe-ids']\n",
    "\n",
    "for recipe in recipes.values():\n",
    "    print(recipe['recipe_name'])"
   ]
  },
  {
   "cell_type": "code",
   "execution_count": 12,
   "id": "d0fc7531",
   "metadata": {},
   "outputs": [
    {
     "data": {
      "text/plain": [
       "{'Condition': 'Healthy',\n",
       " 'meal_schedule': [{'meal': 'breakfast', 'time': '9:00'},\n",
       "  {'meal': 'lunch', 'time': '13:00'},\n",
       "  {'meal': 'dinner', 'time': '20:00'}],\n",
       " 'meal_config': {'Beverage': '', 'Main Course': '', 'Dessert': ''},\n",
       " 'time_period': 1,\n",
       " 'recommendations_per_day': 3}"
      ]
     },
     "execution_count": 12,
     "metadata": {},
     "output_type": "execute_result"
    }
   ],
   "source": [
    "# Read user request\n",
    "with open('../data/user1.json', 'r') as file:\n",
    "    user_request = json.load(file)\n",
    "user_request"
   ]
  },
  {
   "cell_type": "code",
   "execution_count": 14,
   "id": "0e7e606c",
   "metadata": {},
   "outputs": [
    {
     "name": "stdout",
     "output_type": "stream",
     "text": [
      "<class 'int'>\n"
     ]
    }
   ],
   "source": [
    "# save to file sample output\n",
    "days = user_request['recommendations_per_day']\n",
    "meal_order = user_request['meal_schedule']\n",
    "meal_plan = []\n",
    "[ \n",
    "    [Days: {Meal Type, Meal {<Beverage><MainCourse><Side>, }}]\n",
    "]\n",
    "\n",
    "for _ in range(days):\n",
    "    for meal_info in meal_order:\n",
    "        \n",
    "        meal_type = meal_info['meal']\n",
    "        meal_time = meal_info['time']\n",
    "        \n",
    "        beverage = random.choice(['Coke', 'Water', 'Milkshake', 'Wine'])\n",
    "        "
   ]
  }
 ],
 "metadata": {
  "kernelspec": {
   "display_name": "Python 3 (ipykernel)",
   "language": "python",
   "name": "python3"
  },
  "language_info": {
   "codemirror_mode": {
    "name": "ipython",
    "version": 3
   },
   "file_extension": ".py",
   "mimetype": "text/x-python",
   "name": "python",
   "nbconvert_exporter": "python",
   "pygments_lexer": "ipython3",
   "version": "3.9.12"
  }
 },
 "nbformat": 4,
 "nbformat_minor": 5
}
