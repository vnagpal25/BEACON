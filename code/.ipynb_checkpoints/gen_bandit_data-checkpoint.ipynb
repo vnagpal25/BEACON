{
 "cells": [
  {
   "cell_type": "markdown",
   "id": "0f872aef",
   "metadata": {},
   "source": [
    "# Generating User Facts"
   ]
  },
  {
   "cell_type": "code",
   "execution_count": 9,
   "id": "b5213a22",
   "metadata": {},
   "outputs": [
    {
     "data": {
      "text/plain": [
       "'\\nFeatures that pertain to users dietary preferences are dairyOpinion, meatOpinion, nutsOpinion.\\nFor each feature, 33% of the users will have an opinion of 1(love), 33% of the users will have an opinion of 0 (neutral),\\nand the remaining 33% of the users will have an opinion of -1(hate)\\n'"
      ]
     },
     "execution_count": 9,
     "metadata": {},
     "output_type": "execute_result"
    }
   ],
   "source": [
    "'''\n",
    "Features that pertain to users dietary preferences are dairyOpinion, meatOpinion, nutsOpinion.\n",
    "For each feature, 33% of the users will have an opinion of 1(love), 33% of the users will have an opinion of 0 (neutral),\n",
    "and the remaining 33% of the users will have an opinion of -1(hate)\n",
    "'''"
   ]
  },
  {
   "cell_type": "code",
   "execution_count": 10,
   "id": "7c187d5d",
   "metadata": {},
   "outputs": [],
   "source": [
    "import pandas as pd\n",
    "import random\n",
    "import os\n",
    "import json"
   ]
  },
  {
   "cell_type": "code",
   "execution_count": 22,
   "id": "97702395-dafe-4fc5-8d5f-18b6291be8c5",
   "metadata": {},
   "outputs": [],
   "source": [
    "users = list(range(1, 26))\n",
    "facts = []"
   ]
  },
  {
   "cell_type": "code",
   "execution_count": 23,
   "id": "40ce9d2f-30f1-44ce-ac4b-5ac9b569af8e",
   "metadata": {},
   "outputs": [],
   "source": [
    "def partition(arr):\n",
    "    # Shuffle the array\n",
    "    random.shuffle(arr)\n",
    "    \n",
    "    # Determine the size of each partition\n",
    "    partition_size = len(arr) // 3\n",
    "    \n",
    "    # Create the three partitions\n",
    "    part1 = arr[:partition_size]\n",
    "    part2 = arr[partition_size:partition_size * 2]\n",
    "    part3 = arr[partition_size*2:]\n",
    "    \n",
    "    return part1, part2, part3\n"
   ]
  },
  {
   "cell_type": "code",
   "execution_count": 24,
   "id": "63f94ad2-63af-49be-a2ef-2764084d0fe8",
   "metadata": {},
   "outputs": [],
   "source": [
    "for i, feature_name in enumerate(['dairy', 'meat', 'nuts']):\n",
    "    positive, neutral, negative = partition(users)\n",
    "    for opinion, type_str in [(positive,'positive'),\n",
    "                           (neutral, 'neutral'),\n",
    "                           (negative, 'negative')]:\n",
    "        for user in opinion:\n",
    "            facts.append(f'preference(user_{user}, {type_str}_{feature_name}).')\n"
   ]
  },
  {
   "cell_type": "markdown",
   "id": "a10593f4-56af-41d6-a284-6d949a90b31d",
   "metadata": {},
   "source": [
    "# Generating Food Facts"
   ]
  },
  {
   "cell_type": "code",
   "execution_count": 6,
   "id": "24f4a1d1",
   "metadata": {},
   "outputs": [
    {
     "ename": "NameError",
     "evalue": "name 'meals' is not defined",
     "output_type": "error",
     "traceback": [
      "\u001b[1;31m---------------------------------------------------------------------------\u001b[0m",
      "\u001b[1;31mNameError\u001b[0m                                 Traceback (most recent call last)",
      "Cell \u001b[1;32mIn[6], line 1\u001b[0m\n\u001b[1;32m----> 1\u001b[0m \u001b[43mmeals\u001b[49m\u001b[38;5;241m.\u001b[39mto_csv(\u001b[38;5;124m'\u001b[39m\u001b[38;5;124mfeatures_meals.csv\u001b[39m\u001b[38;5;124m'\u001b[39m, index\u001b[38;5;241m=\u001b[39m\u001b[38;5;28;01mFalse\u001b[39;00m)  \u001b[38;5;66;03m# Setting index=False prevents saving the row indices\u001b[39;00m\n",
      "\u001b[1;31mNameError\u001b[0m: name 'meals' is not defined"
     ]
    }
   ],
   "source": [
    "meals.to_csv('features_meals.csv', index=False)  # Setting index=False prevents saving the row indices"
   ]
  },
  {
   "cell_type": "code",
   "execution_count": 40,
   "id": "ee93cd4c-5e5e-4212-ba37-229930eaccb4",
   "metadata": {},
   "outputs": [],
   "source": [
    "# Loading data\n",
    "beverages = json.load(open('../items_data/beverages.json'))\n",
    "beverages = beverages['beverage_ids']\n",
    "\n",
    "mcdonalds = json.load(open('../items_data/mcdonalds.json'))\n",
    "mcdonalds = mcdonalds['recipe-ids']\n",
    "\n",
    "taco_bell = json.load(open('../items_data/taco_bell.json'))\n",
    "taco_bell = taco_bell['recipe-ids']\n",
    "\n",
    "treat_data=json.load(open('../items_data/recipe_repn.json'))\n",
    "treat_data = treat_data['recipe-ids']"
   ]
  },
  {
   "cell_type": "code",
   "execution_count": 42,
   "id": "a2a3a7bc-3f34-4b20-9a1a-4ac25a57cb40",
   "metadata": {},
   "outputs": [],
   "source": [
    "for data, is_bev in ((beverages, True), (mcdonalds, False), (taco_bell, False), (treat_data, False)):\n",
    "    for key, item_info in data.items():\n",
    "        if item_info['hasNuts']:\n",
    "            if is_bev:\n",
    "                facts.append(f'beverage({key}, has_nuts).')\n",
    "            else:\n",
    "                facts.append(f'item({key}, has_nuts).')\n",
    "        if item_info['hasMeat']:\n",
    "            if is_bev:\n",
    "                facts.append(f'beverage({key}, has_meat).')\n",
    "            else:\n",
    "                facts.append(f'item({key}, has_meat).')\n",
    "        if item_info['hasDairy']:\n",
    "            if is_bev:\n",
    "                facts.append(f'beverage({key}, has_dairy).')\n",
    "            else:\n",
    "                facts.append(f'item({key}, has_dairy).')"
   ]
  },
  {
   "cell_type": "code",
   "execution_count": null,
   "id": "24047b07",
   "metadata": {},
   "outputs": [],
   "source": [
    "import statistics\n",
    "avg_goodness = statistics.mean(goodness_scores)\n",
    "binarized_goodness = [int(score >= avg_goodness) for score in goodness_scores]"
   ]
  },
  {
   "cell_type": "code",
   "execution_count": 29,
   "id": "966a23c2",
   "metadata": {},
   "outputs": [
    {
     "ename": "NameError",
     "evalue": "name 'binarized_goodness' is not defined",
     "output_type": "error",
     "traceback": [
      "\u001b[1;31m---------------------------------------------------------------------------\u001b[0m",
      "\u001b[1;31mNameError\u001b[0m                                 Traceback (most recent call last)",
      "Cell \u001b[1;32mIn[29], line 6\u001b[0m\n\u001b[0;32m      3\u001b[0m interactions[\u001b[38;5;124m'\u001b[39m\u001b[38;5;124mitem_id\u001b[39m\u001b[38;5;124m'\u001b[39m] \u001b[38;5;241m=\u001b[39m \u001b[38;5;124m'\u001b[39m\u001b[38;5;124m'\u001b[39m\n\u001b[0;32m      4\u001b[0m interactions[\u001b[38;5;124m'\u001b[39m\u001b[38;5;124mresponse\u001b[39m\u001b[38;5;124m'\u001b[39m] \u001b[38;5;241m=\u001b[39m \u001b[38;5;124m'\u001b[39m\u001b[38;5;124m'\u001b[39m\n\u001b[1;32m----> 6\u001b[0m \u001b[38;5;28;01mfor\u001b[39;00m i, goodness_score \u001b[38;5;129;01min\u001b[39;00m \u001b[38;5;28menumerate\u001b[39m(\u001b[43mbinarized_goodness\u001b[49m, \u001b[38;5;241m1\u001b[39m):\n\u001b[0;32m      7\u001b[0m     interactions\u001b[38;5;241m.\u001b[39mat[i \u001b[38;5;241m-\u001b[39m \u001b[38;5;241m1\u001b[39m, \u001b[38;5;124m'\u001b[39m\u001b[38;5;124muser_id\u001b[39m\u001b[38;5;124m'\u001b[39m] \u001b[38;5;241m=\u001b[39m i\n\u001b[0;32m      8\u001b[0m     interactions\u001b[38;5;241m.\u001b[39mat[i \u001b[38;5;241m-\u001b[39m \u001b[38;5;241m1\u001b[39m, \u001b[38;5;124m'\u001b[39m\u001b[38;5;124mitem_id\u001b[39m\u001b[38;5;124m'\u001b[39m] \u001b[38;5;241m=\u001b[39m i\n",
      "\u001b[1;31mNameError\u001b[0m: name 'binarized_goodness' is not defined"
     ]
    }
   ],
   "source": [
    "interactions = pd.DataFrame()\n",
    "interactions['user_id'] = ''\n",
    "interactions['item_id'] = ''\n",
    "interactions['response'] = ''\n",
    "\n",
    "for i, goodness_score in enumerate(binarized_goodness, 1):\n",
    "    interactions.at[i - 1, 'user_id'] = i\n",
    "    interactions.at[i - 1, 'item_id'] = i\n",
    "    interactions.at[i - 1, 'response'] = goodness_score"
   ]
  },
  {
   "cell_type": "code",
   "execution_count": null,
   "id": "3fbb3490",
   "metadata": {},
   "outputs": [],
   "source": [
    "# Split interactions train test\n",
    "# 70 / 30\n",
    "df_train = interactions[:70]\n",
    "df_test = interactions[70:]"
   ]
  },
  {
   "cell_type": "code",
   "execution_count": null,
   "id": "56f3e915",
   "metadata": {},
   "outputs": [],
   "source": [
    "df_train.to_csv('data_train.csv', index=False)  # Setting index=False prevents saving the row indices\n",
    "df_test.to_csv('data_test.csv', index=False)  # Setting index=False prevents saving the row indices"
   ]
  },
  {
   "cell_type": "code",
   "execution_count": 44,
   "id": "1ab65701-503f-43e1-9d5f-367c188e3a76",
   "metadata": {},
   "outputs": [
    {
     "name": "stdout",
     "output_type": "stream",
     "text": [
      "['preference(user_20, positive_dairy).', 'preference(user_16, positive_dairy).', 'preference(user_23, positive_dairy).', 'preference(user_17, positive_dairy).', 'preference(user_2, positive_dairy).', 'preference(user_14, positive_dairy).', 'preference(user_4, positive_dairy).', 'preference(user_15, positive_dairy).', 'preference(user_11, neutral_dairy).', 'preference(user_13, neutral_dairy).', 'preference(user_5, neutral_dairy).', 'preference(user_10, neutral_dairy).', 'preference(user_6, neutral_dairy).', 'preference(user_24, neutral_dairy).', 'preference(user_21, neutral_dairy).', 'preference(user_18, neutral_dairy).', 'preference(user_25, negative_dairy).', 'preference(user_3, negative_dairy).', 'preference(user_19, negative_dairy).', 'preference(user_12, negative_dairy).', 'preference(user_22, negative_dairy).', 'preference(user_7, negative_dairy).', 'preference(user_1, negative_dairy).', 'preference(user_8, negative_dairy).', 'preference(user_9, negative_dairy).', 'preference(user_14, positive_meat).', 'preference(user_5, positive_meat).', 'preference(user_8, positive_meat).', 'preference(user_2, positive_meat).', 'preference(user_4, positive_meat).', 'preference(user_13, positive_meat).', 'preference(user_21, positive_meat).', 'preference(user_1, positive_meat).', 'preference(user_3, neutral_meat).', 'preference(user_17, neutral_meat).', 'preference(user_24, neutral_meat).', 'preference(user_20, neutral_meat).', 'preference(user_18, neutral_meat).', 'preference(user_25, neutral_meat).', 'preference(user_22, neutral_meat).', 'preference(user_6, neutral_meat).', 'preference(user_11, negative_meat).', 'preference(user_19, negative_meat).', 'preference(user_7, negative_meat).', 'preference(user_23, negative_meat).', 'preference(user_9, negative_meat).', 'preference(user_16, negative_meat).', 'preference(user_10, negative_meat).', 'preference(user_15, negative_meat).', 'preference(user_12, negative_meat).', 'preference(user_1, positive_nuts).', 'preference(user_17, positive_nuts).', 'preference(user_25, positive_nuts).', 'preference(user_2, positive_nuts).', 'preference(user_16, positive_nuts).', 'preference(user_8, positive_nuts).', 'preference(user_5, positive_nuts).', 'preference(user_19, positive_nuts).', 'preference(user_6, neutral_nuts).', 'preference(user_12, neutral_nuts).', 'preference(user_23, neutral_nuts).', 'preference(user_13, neutral_nuts).', 'preference(user_9, neutral_nuts).', 'preference(user_10, neutral_nuts).', 'preference(user_18, neutral_nuts).', 'preference(user_4, neutral_nuts).', 'preference(user_20, negative_nuts).', 'preference(user_14, negative_nuts).', 'preference(user_21, negative_nuts).', 'preference(user_7, negative_nuts).', 'preference(user_11, negative_nuts).', 'preference(user_22, negative_nuts).', 'preference(user_15, negative_nuts).', 'preference(user_3, negative_nuts).', 'preference(user_24, negative_nuts).', '(bev_6, has_dairy).', '(bev_10, has_dairy).', '(bev_13, has_dairy).', '(bev_16, has_dairy).', '(bev_17, has_dairy).', '(bev_22, has_nuts).', '(item_36, has_dairy).', '(item_37, has_meat).', '(item_37, has_dairy).', '(item_38, has_meat).', '(item_38, has_dairy).', '(item_40, has_meat).', '(item_40, has_dairy).', '(item_41, has_meat).', '(item_41, has_dairy).', '(item_42, has_meat).', '(item_42, has_dairy).', '(item_43, has_dairy).', '(item_44, has_nuts).', '(item_44, has_dairy).', '(item_45, has_meat).', '(item_45, has_dairy).', '(item_46, has_meat).', '(item_46, has_dairy).', '(item_26, has_meat).', '(item_26, has_dairy).', '(item_27, has_meat).', '(item_27, has_dairy).', '(item_28, has_meat).', '(item_28, has_dairy).', '(item_29, has_dairy).', '(item_30, has_dairy).', '(item_31, has_meat).', '(item_31, has_dairy).', '(item_32, has_meat).', '(item_32, has_dairy).', '(item_33, has_meat).', '(item_33, has_dairy).', '(item_34, has_dairy).', '(item_35, has_dairy).', '(item_1, has_meat).', '(item_2, has_meat).', '(item_2, has_dairy).', '(item_3, has_meat).', '(item_3, has_dairy).', '(item_4, has_dairy).', '(item_6, has_meat).', '(item_6, has_dairy).', '(item_9, has_meat).', '(item_9, has_dairy).', '(item_13, has_meat).', '(item_13, has_dairy).', '(item_17, has_meat).', '(item_17, has_dairy).', '(item_18, has_dairy).', '(item_20, has_nuts).', '(item_20, has_dairy).', '(item_21, has_dairy).', '(item_23, has_meat).', '(item_24, has_meat).', '(item_25, has_meat).', '(item_25, has_dairy).', '(item_47, has_nuts).', '(item_48, has_nuts).', '(item_48, has_dairy).', '(item_49, has_nuts).', '(item_49, has_dairy).', '(item_50, has_nuts).', '(item_50, has_dairy).']\n"
     ]
    }
   ],
   "source": [
    "print(facts)"
   ]
  }
 ],
 "metadata": {
  "kernelspec": {
   "display_name": "Python 3 (ipykernel)",
   "language": "python",
   "name": "python3"
  },
  "language_info": {
   "codemirror_mode": {
    "name": "ipython",
    "version": 3
   },
   "file_extension": ".py",
   "mimetype": "text/x-python",
   "name": "python",
   "nbconvert_exporter": "python",
   "pygments_lexer": "ipython3",
   "version": "3.11.9"
  }
 },
 "nbformat": 4,
 "nbformat_minor": 5
}
