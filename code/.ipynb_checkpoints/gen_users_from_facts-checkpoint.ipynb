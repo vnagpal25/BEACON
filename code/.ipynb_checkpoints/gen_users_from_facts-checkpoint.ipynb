{
 "cells": [
  {
   "cell_type": "code",
   "execution_count": 2,
   "id": "aaba1121",
   "metadata": {},
   "outputs": [],
   "source": [
    "sample_user = {\n",
    "  \"Condition\": \"Healthy\",\n",
    "  \"recommendation_constraints\": [\n",
    "    {\n",
    "      \"meal_type\": {\n",
    "        \"meal_name\": \"breakfast\",\n",
    "        \"meal_config\": [\n",
    "          \"Beverage\",\n",
    "          \"Main Course\"\n",
    "        ],\n",
    "        \"time\": \"9:00\"\n",
    "      }\n",
    "    },\n",
    "    {\n",
    "      \"meal_type\": {\n",
    "        \"meal_name\": \"lunch\",\n",
    "        \"meal_config\": [\n",
    "          \"Beverage\",\n",
    "          \"Main Course\",\n",
    "          \"Side\"\n",
    "        ],\n",
    "        \"time\": \"13:00\"\n",
    "      }\n",
    "    },\n",
    "    {\n",
    "      \"meal_type\": {\n",
    "        \"meal_name\": \"dinner\",\n",
    "        \"meal_config\": [\n",
    "          \"Beverage\",\n",
    "          \"Main Course\",\n",
    "          \"Side\",\n",
    "          \"Dessert\"\n",
    "        ],\n",
    "        \"time\": \"20:00\"\n",
    "      }\n",
    "    }\n",
    "  ],\n",
    "  \"user_compatibilities\": {\n",
    "    \"dairyPreference\": 0,\n",
    "    \"meatPreference\": 0,\n",
    "    \"nutsPreference\": 0\n",
    "  },\n",
    "  \"time_period\": 1,\n",
    "  \"recommendations_per_day\": 3\n",
    "}"
   ]
  },
  {
   "cell_type": "code",
   "execution_count": 11,
   "id": "0de5f9c0",
   "metadata": {},
   "outputs": [],
   "source": [
    "import re\n",
    "match_str =  r'\\d+'"
   ]
  },
  {
   "cell_type": "code",
   "execution_count": 3,
   "id": "2594f0e4",
   "metadata": {},
   "outputs": [],
   "source": [
    "users = [sample_user for i in range(25)]"
   ]
  },
  {
   "cell_type": "code",
   "execution_count": 5,
   "id": "2cf1f410",
   "metadata": {},
   "outputs": [],
   "source": [
    "user_facts = open('../user_facts.txt')\n",
    "user_facts = user_facts.readlines()"
   ]
  },
  {
   "cell_type": "code",
   "execution_count": 15,
   "id": "719e439e",
   "metadata": {},
   "outputs": [],
   "source": [
    "for fact in user_facts:\n",
    "    user_num, = map(int, re.findall(match_str, fact))\n",
    "    if 'positive' in fact:\n",
    "        if 'dairy' in fact:\n",
    "            users[user_num-1]['dairyPreference'] = 1\n",
    "        elif 'meat' in fact:\n",
    "            users[user_num-1]['meatPreference'] = 1\n",
    "        else:\n",
    "            users[user_num-1]['nutsPreference'] = 1\n",
    "    else:\n",
    "        if 'dairy' in fact:\n",
    "            users[user_num-1]['dairyPreference'] = -1\n",
    "        elif 'meat' in fact:\n",
    "            users[user_num-1]['meatPreference'] = -1\n",
    "        else:\n",
    "            users[user_num-1]['nutsPreference'] = -1\n",
    "            "
   ]
  },
  {
   "cell_type": "code",
   "execution_count": null,
   "id": "06294f64",
   "metadata": {},
   "outputs": [],
   "source": []
  }
 ],
 "metadata": {
  "kernelspec": {
   "display_name": "Python 3 (ipykernel)",
   "language": "python",
   "name": "python3"
  },
  "language_info": {
   "codemirror_mode": {
    "name": "ipython",
    "version": 3
   },
   "file_extension": ".py",
   "mimetype": "text/x-python",
   "name": "python",
   "nbconvert_exporter": "python",
   "pygments_lexer": "ipython3",
   "version": "3.9.12"
  }
 },
 "nbformat": 4,
 "nbformat_minor": 5
}
