{
 "cells": [
  {
   "cell_type": "code",
   "execution_count": 1,
   "id": "b2261fd0",
   "metadata": {},
   "outputs": [],
   "source": [
    "import json\n",
    "import random"
   ]
  },
  {
   "cell_type": "code",
   "execution_count": 2,
   "id": "c0c763b7",
   "metadata": {},
   "outputs": [],
   "source": [
    "class MealConfig:\n",
    "    # Holds the configuration (items) for a particular meal\n",
    "    def __init__(self, config: list):\n",
    "        self.config = config\n",
    "    \n",
    "    def has_main_course(self):\n",
    "        return \"Main Course\" in self.config\n",
    "\n",
    "    def has_side(self):\n",
    "        return \"Side\" in self.config\n",
    "    \n",
    "    def has_dessert(self):\n",
    "        return \"Dessert\" in self.config\n",
    "\n",
    "    def has_beverage(self):\n",
    "        return \"Beverage\" in self.config\n",
    "    "
   ]
  },
  {
   "cell_type": "code",
   "execution_count": 3,
   "id": "72305f52",
   "metadata": {},
   "outputs": [],
   "source": [
    "class MealInfo:\n",
    "    # Holds information about meal\n",
    "    def __init__(self, meal_name: str, meal_config: MealConfig, meal_time: str):\n",
    "        self.meal_name = meal_name\n",
    "        self.meal_config = meal_config\n",
    "        self.meal_time = meal_time\n",
    "\n",
    "    def write(self):\n",
    "        ..."
   ]
  },
  {
   "cell_type": "code",
   "execution_count": 4,
   "id": "f6a2258a",
   "metadata": {},
   "outputs": [],
   "source": [
    "class MealRecommender:  \n",
    "    # Personalized Recommender for Particular User\n",
    "    def __init__(self, user):\n",
    "        self.recipe_set, self.beverage_set, self.user_request = self.ReadInputs(user)\n",
    "\n",
    "\n",
    "    def ReadInputs(self, user):\n",
    "        # Read R3 dataset\n",
    "        with open('../data/recipe_repn.json', 'r') as file:\n",
    "            recipes = json.load(file)\n",
    "            recipes = recipes['recipe-ids']   \n",
    "        \n",
    "        # Read Beverages dataset\n",
    "        with open('../data/beverages.json', 'r') as file:\n",
    "            beverages = json.load(file)\n",
    "            beverages = beverages['beverage_ids']\n",
    "            \n",
    "        # Read user request\n",
    "        with open(f'../data/{user}', 'r') as file:\n",
    "            user_request = json.load(file)\n",
    "\n",
    "        return recipes, beverages, user_request\n",
    "\n",
    "    def RunMealRecStrat(self):\n",
    "        # Runs Meal Recommendation Strategy to create personalized meal plan\n",
    "        \n",
    "        amount_meals = self.user_request['recommendations_per_day'] # integer\n",
    "        rec_constraints = self.user_request['recommendation_constraints'] # [{'meal': 'breakfast'/'lunch'/'dinner', 'time': 'HH:MM'}']\n",
    "        amount_days = self.user_request['time_period']\n",
    "        \n",
    "        # [[Days: {Meal Type, Meal {<Beverage><MainCourse><Side>, }}]]\n",
    "        meal_plan = []\n",
    "        \n",
    "        # iterate over the number of days\n",
    "        for j in range(amount_days):\n",
    "            # holds list of meals for day j\n",
    "            meals = []\n",
    "            \n",
    "            # iterates over meal configuration for each day\n",
    "            for meal_info in rec_constraints:\n",
    "                meal_info = meal_info['meal_type']\n",
    "                \n",
    "                # Final Parsing on User Input\n",
    "                meal_name = meal_info['meal_name']\n",
    "                meal_time = meal_info['time']\n",
    "                \n",
    "                meal_config = meal_info['meal_config']\n",
    "                meal_config = MealConfig(meal_config)\n",
    "                \n",
    "                meal_info = MealInfo(meal_name, meal_config, meal_time)\n",
    "                                \n",
    "                # To Write\n",
    "                meal = {'meal_name': meal_info.meal_name,\n",
    "                        'meal_time': meal_info.meal_time}\n",
    "                \n",
    "                # Random Method for Recommendation\n",
    "                if meal_info.meal_config.has_beverage():\n",
    "                    meal['beverage'] = random.choice(list(self.beverage_set.keys()))\n",
    "                if meal_info.meal_config.has_main_course():\n",
    "                    meal['main_course'] = random.choice(list(self.recipe_set.keys()))\n",
    "                if meal_info.meal_config.has_dessert():\n",
    "                    meal['dessert'] = random.choice(list(self.recipe_set.keys()))\n",
    "                if meal_info.meal_config.has_side():\n",
    "                    meal['side'] = random.choice(list(self.recipe_set.keys()))\n",
    "\n",
    "                meals.append(meal)\n",
    "            \n",
    "            meals = {f'day {j + 1}': meals}\n",
    "            meal_plan.append(meals)        \n",
    "        \n",
    "        # return meal plan\n",
    "        return meal_plan\n",
    "\n",
    "    def WriteMealRecs(self, meal_plan):\n",
    "        # Write meal plan to json\n",
    "        with open('../data/user1_recommendation.json', 'w') as file:\n",
    "            json.dump(meal_plan, file)"
   ]
  },
  {
   "cell_type": "code",
   "execution_count": 5,
   "id": "6c3b2c0f",
   "metadata": {},
   "outputs": [
    {
     "ename": "AttributeError",
     "evalue": "'MealRecommender' object has no attribute 'recipes'",
     "output_type": "error",
     "traceback": [
      "\u001b[1;31m---------------------------------------------------------------------------\u001b[0m",
      "\u001b[1;31mAttributeError\u001b[0m                            Traceback (most recent call last)",
      "Input \u001b[1;32mIn [5]\u001b[0m, in \u001b[0;36m<cell line: 5>\u001b[1;34m()\u001b[0m\n\u001b[0;32m      2\u001b[0m user_meal_recommender \u001b[38;5;241m=\u001b[39m MealRecommender(\u001b[38;5;124m\"\u001b[39m\u001b[38;5;124muser1.json\u001b[39m\u001b[38;5;124m\"\u001b[39m)\n\u001b[0;32m      4\u001b[0m \u001b[38;5;66;03m# Create Personalized Meal Plan\u001b[39;00m\n\u001b[1;32m----> 5\u001b[0m meal_plan \u001b[38;5;241m=\u001b[39m \u001b[43muser_meal_recommender\u001b[49m\u001b[38;5;241;43m.\u001b[39;49m\u001b[43mRunMealRecStrat\u001b[49m\u001b[43m(\u001b[49m\u001b[43m)\u001b[49m\n\u001b[0;32m      7\u001b[0m \u001b[38;5;66;03m# Write Results to JSON\u001b[39;00m\n\u001b[0;32m      8\u001b[0m user_meal_recommender\u001b[38;5;241m.\u001b[39mWriteMealRecs(meal_plan)\n",
      "Input \u001b[1;32mIn [4]\u001b[0m, in \u001b[0;36mMealRecommender.RunMealRecStrat\u001b[1;34m(self)\u001b[0m\n\u001b[0;32m     58\u001b[0m     meal[\u001b[38;5;124m'\u001b[39m\u001b[38;5;124mbeverage\u001b[39m\u001b[38;5;124m'\u001b[39m] \u001b[38;5;241m=\u001b[39m random\u001b[38;5;241m.\u001b[39mchoice(\u001b[38;5;28mlist\u001b[39m(\u001b[38;5;28mself\u001b[39m\u001b[38;5;241m.\u001b[39mbeverage_set\u001b[38;5;241m.\u001b[39mkeys()))\n\u001b[0;32m     59\u001b[0m \u001b[38;5;28;01mif\u001b[39;00m meal_info\u001b[38;5;241m.\u001b[39mmeal_config\u001b[38;5;241m.\u001b[39mhas_main_course():\n\u001b[1;32m---> 60\u001b[0m     meal[\u001b[38;5;124m'\u001b[39m\u001b[38;5;124mmain_course\u001b[39m\u001b[38;5;124m'\u001b[39m] \u001b[38;5;241m=\u001b[39m random\u001b[38;5;241m.\u001b[39mchoice(\u001b[38;5;28mlist\u001b[39m(\u001b[38;5;28;43mself\u001b[39;49m\u001b[38;5;241;43m.\u001b[39;49m\u001b[43mrecipes\u001b[49m\u001b[38;5;241m.\u001b[39mkeys()))\n\u001b[0;32m     61\u001b[0m \u001b[38;5;28;01mif\u001b[39;00m meal_info\u001b[38;5;241m.\u001b[39mmeal_config\u001b[38;5;241m.\u001b[39mhas_dessert():\n\u001b[0;32m     62\u001b[0m     meal[\u001b[38;5;124m'\u001b[39m\u001b[38;5;124mdessert\u001b[39m\u001b[38;5;124m'\u001b[39m] \u001b[38;5;241m=\u001b[39m random\u001b[38;5;241m.\u001b[39mchoice(\u001b[38;5;28mlist\u001b[39m(\u001b[38;5;28mself\u001b[39m\u001b[38;5;241m.\u001b[39mrecipes\u001b[38;5;241m.\u001b[39mkeys()))\n",
      "\u001b[1;31mAttributeError\u001b[0m: 'MealRecommender' object has no attribute 'recipes'"
     ]
    }
   ],
   "source": [
    "# Initialize recommender for particular user\n",
    "user_meal_recommender = MealRecommender(\"user1.json\")\n",
    "\n",
    "# Create Personalized Meal Plan\n",
    "meal_plan = user_meal_recommender.RunMealRecStrat()\n",
    "\n",
    "# Write Results to JSON\n",
    "user_meal_recommender.WriteMealRecs(meal_plan)"
   ]
  },
  {
   "cell_type": "code",
   "execution_count": null,
   "id": "62be8475",
   "metadata": {},
   "outputs": [],
   "source": []
  }
 ],
 "metadata": {
  "kernelspec": {
   "display_name": "Python 3 (ipykernel)",
   "language": "python",
   "name": "python3"
  },
  "language_info": {
   "codemirror_mode": {
    "name": "ipython",
    "version": 3
   },
   "file_extension": ".py",
   "mimetype": "text/x-python",
   "name": "python",
   "nbconvert_exporter": "python",
   "pygments_lexer": "ipython3",
   "version": "3.9.12"
  }
 },
 "nbformat": 4,
 "nbformat_minor": 5
}
