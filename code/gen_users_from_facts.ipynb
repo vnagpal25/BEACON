{
 "cells": [
  {
   "cell_type": "code",
   "execution_count": 56,
   "id": "3f374298",
   "metadata": {},
   "outputs": [],
   "source": [
    "sample_user = {\n",
    "  \"Condition\": \"Healthy\",\n",
    "  \"recommendation_constraints\": [\n",
    "    {\n",
    "      \"meal_type\": {\n",
    "        \"meal_name\": \"breakfast\",\n",
    "        \"meal_config\": [\n",
    "          \"Beverage\",\n",
    "          \"Main Course\"\n",
    "        ],\n",
    "        \"time\": \"9:00\"\n",
    "      }\n",
    "    },\n",
    "    {\n",
    "      \"meal_type\": {\n",
    "        \"meal_name\": \"lunch\",\n",
    "        \"meal_config\": [\n",
    "          \"Beverage\",\n",
    "          \"Main Course\",\n",
    "          \"Side\"\n",
    "        ],\n",
    "        \"time\": \"13:00\"\n",
    "      }\n",
    "    },\n",
    "    {\n",
    "      \"meal_type\": {\n",
    "        \"meal_name\": \"dinner\",\n",
    "        \"meal_config\": [\n",
    "          \"Beverage\",\n",
    "          \"Main Course\",\n",
    "          \"Side\",\n",
    "          \"Dessert\"\n",
    "        ],\n",
    "        \"time\": \"20:00\"\n",
    "      }\n",
    "    }\n",
    "  ],\n",
    "  \"user_compatibilities\": {\n",
    "    \"dairyPreference\": 0,\n",
    "    \"meatPreference\": 0,\n",
    "    \"nutsPreference\": 0\n",
    "  },\n",
    "  \"time_period\": 1,\n",
    "  \"recommendations_per_day\": 3\n",
    "}"
   ]
  },
  {
   "cell_type": "code",
   "execution_count": 57,
   "id": "9f7b63c6",
   "metadata": {},
   "outputs": [],
   "source": [
    "import re\n",
    "import json\n",
    "import copy\n",
    "match_str =  r'\\d+'"
   ]
  },
  {
   "cell_type": "code",
   "execution_count": 58,
   "id": "4257f057",
   "metadata": {},
   "outputs": [],
   "source": [
    "users = [copy.deepcopy(sample_user) for i in range(25)]"
   ]
  },
  {
   "cell_type": "code",
   "execution_count": 54,
   "id": "8df2a687",
   "metadata": {},
   "outputs": [],
   "source": [
    "users[0]['Condition'] = 'asdf'"
   ]
  },
  {
   "cell_type": "code",
   "execution_count": 59,
   "id": "71ae0bd0",
   "metadata": {},
   "outputs": [],
   "source": [
    "user_facts = open('../user_facts.txt')\n",
    "user_facts = user_facts.readlines()"
   ]
  },
  {
   "cell_type": "code",
   "execution_count": 62,
   "id": "00ec01e7",
   "metadata": {},
   "outputs": [],
   "source": [
    "for fact in user_facts:\n",
    "    user_num, = map(int, re.findall(match_str, fact))\n",
    "    \n",
    "    if 'positive' in fact:\n",
    "        if 'dairy' in fact:\n",
    "            users[user_num-1][\"user_compatibilities\"]['dairyPreference'] = 1\n",
    "        \n",
    "        elif 'meat' in fact:\n",
    "            users[user_num-1][\"user_compatibilities\"]['meatPreference'] = 1\n",
    "        \n",
    "        elif 'nuts' in fact:\n",
    "            users[user_num-1][\"user_compatibilities\"]['nutsPreference'] = 1\n",
    "        else:\n",
    "            print('hello?')\n",
    "    \n",
    "    elif 'negative' in fact:\n",
    "        if 'dairy' in fact:\n",
    "            users[user_num-1][\"user_compatibilities\"]['dairyPreference'] = -1\n",
    "        \n",
    "        elif 'meat' in fact:\n",
    "            users[user_num-1][\"user_compatibilities\"]['meatPreference'] = -1\n",
    "        \n",
    "        elif 'nuts' in fact:\n",
    "            users[user_num-1][\"user_compatibilities\"]['nutsPreference'] = -1\n",
    "        else:\n",
    "            print('hello2')\n",
    "            "
   ]
  },
  {
   "cell_type": "code",
   "execution_count": 61,
   "id": "42f1db08",
   "metadata": {},
   "outputs": [],
   "source": [
    "for i, user_file in enumerate(users, 1):\n",
    "    with open(f'../user_input_data/user_{i}.json', 'w') as json_file:\n",
    "    # Write the dictionary to the file as a JSON object\n",
    "        json.dump(user_file, json_file, indent=2)\n"
   ]
  }
 ],
 "metadata": {
  "kernelspec": {
   "display_name": "Python 3 (ipykernel)",
   "language": "python",
   "name": "python3"
  },
  "language_info": {
   "codemirror_mode": {
    "name": "ipython",
    "version": 3
   },
   "file_extension": ".py",
   "mimetype": "text/x-python",
   "name": "python",
   "nbconvert_exporter": "python",
   "pygments_lexer": "ipython3",
   "version": "3.9.12"
  }
 },
 "nbformat": 4,
 "nbformat_minor": 5
}
