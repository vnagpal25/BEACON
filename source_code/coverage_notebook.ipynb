{
 "cells": [
  {
   "cell_type": "markdown",
   "id": "0db1642d",
   "metadata": {},
   "source": [
    "# Coverage Metric Notebook"
   ]
  },
  {
   "cell_type": "markdown",
   "id": "4b4a8ba8",
   "metadata": {},
   "source": [
    "## Import class, set meal configuration and weights"
   ]
  },
  {
   "cell_type": "code",
   "execution_count": 1,
   "id": "c58793e2",
   "metadata": {},
   "outputs": [
    {
     "name": "stdout",
     "output_type": "stream",
     "text": [
      "Class initiated\n"
     ]
    }
   ],
   "source": [
    "# Import the class\n",
    "import coverage\n",
    "\n",
    "# Initialize class\n",
    "c=coverage.Coverage()\n",
    "\n",
    "# Define meal configuration with N food roles\n",
    "c.set_meal_config(['Beverage', 'Main Course', 'Side Dish', 'Dessert'])"
   ]
  },
  {
   "cell_type": "code",
   "execution_count": 2,
   "id": "b5f8788d",
   "metadata": {},
   "outputs": [
    {
     "data": {
      "text/plain": [
       "[0.25, 0.25, 0.25, 0.25]"
      ]
     },
     "execution_count": 2,
     "metadata": {},
     "output_type": "execute_result"
    }
   ],
   "source": [
    "# Set weights for each of the food roles\n",
    "c.set_new_weights([1,1,1,1])  # default weights\n",
    "\n",
    "# Get weights for each of the food roles\n",
    "c.get_weights()"
   ]
  },
  {
   "cell_type": "markdown",
   "id": "6f9d7d97",
   "metadata": {},
   "source": [
    "## Add items and define their food roles\n",
    "- <code>c.add_food_items({'omelet':[0,1,2,1]})</code> -> This will result in <code>Exception: Each weight can only be 0 or 1.</code>\n",
    "- <code>c.add_food_items({'omelet':[0,1,1]})</code> -> This will result in <code>Exception: The food roles list must match the size of the meal configuration.</code>\n",
    "\n",
    "The food roles list is meant to be filled with binary values only. You are not defining any weights, but merely annotating what food roles an item X is classified as."
   ]
  },
  {
   "cell_type": "code",
   "execution_count": 3,
   "id": "bc69e6a8",
   "metadata": {},
   "outputs": [
    {
     "data": {
      "text/plain": [
       "{'omelet': [0, 1, 1, 0],\n",
       " 'salad': [0, 1, 1, 0],\n",
       " 'cake': [0, 0, 0, 1],\n",
       " 'tea': [1, 0, 0, 0]}"
      ]
     },
     "execution_count": 3,
     "metadata": {},
     "output_type": "execute_result"
    }
   ],
   "source": [
    "c.add_food_items({'omelet': [0, 1, 1, 0],  # Example: omelet can be a main course and a side dish\n",
    "            'salad': [0, 1, 1, 0],\n",
    "            'cake':[0, 0, 0, 1],\n",
    "            'tea':[1, 0, 0, 0]\n",
    "            # Add more foods and their roles here\n",
    "        })\n",
    "\n",
    "c.get_food_items()"
   ]
  },
  {
   "cell_type": "markdown",
   "id": "283d60b1",
   "metadata": {},
   "source": [
    "## Calculating coverage\n",
    "\n",
    "- We calculate coverage based on how many food roles are <i>correctly</i> fulfilled in the meal recommendation.\n",
    "- We penalize when the recommended food is not in the food items for a particular role.\n",
    "- We don't penalize for missing roles that are not present in the recommendation.\n"
   ]
  },
  {
   "cell_type": "code",
   "execution_count": 4,
   "id": "5ea07092",
   "metadata": {},
   "outputs": [
    {
     "data": {
      "text/plain": [
       "0"
      ]
     },
     "execution_count": 4,
     "metadata": {},
     "output_type": "execute_result"
    }
   ],
   "source": [
    "# Test case 0: a meal rec is empty\n",
    "recommendation={}\n",
    "\n",
    "c.calc_coverage(recommendation)\n",
    "\n",
    "c.get_coverage()"
   ]
  },
  {
   "cell_type": "code",
   "execution_count": 5,
   "id": "53567ee0",
   "metadata": {},
   "outputs": [
    {
     "data": {
      "text/plain": [
       "1.0"
      ]
     },
     "execution_count": 5,
     "metadata": {},
     "output_type": "execute_result"
    }
   ],
   "source": [
    "# Test case 1: a meal recommendation has all food roles correctly fulfilled with the correct food items\n",
    "recommendation={'Beverage':'tea', 'Main Course': 'omelet', 'Side Dish': 'omelet', 'Dessert':'cake'}\n",
    "\n",
    "c.calc_coverage(recommendation)\n",
    "\n",
    "c.get_coverage()"
   ]
  },
  {
   "cell_type": "code",
   "execution_count": 6,
   "id": "7cf7671a",
   "metadata": {},
   "outputs": [
    {
     "data": {
      "text/plain": [
       "0.75"
      ]
     },
     "execution_count": 6,
     "metadata": {},
     "output_type": "execute_result"
    }
   ],
   "source": [
    "# Test case 2: a meal rec is incomplete, but for the food roles it does satisfy, it does so with the correct items.\n",
    "recommendation={'Beverage':'tea', 'Main Course': 'omelet', 'Dessert':'cake'}\n",
    "\n",
    "c.calc_coverage(recommendation)\n",
    "\n",
    "c.get_coverage()"
   ]
  },
  {
   "cell_type": "code",
   "execution_count": 7,
   "id": "a9d06881",
   "metadata": {},
   "outputs": [
    {
     "data": {
      "text/plain": [
       "-0.75"
      ]
     },
     "execution_count": 7,
     "metadata": {},
     "output_type": "execute_result"
    }
   ],
   "source": [
    "# Test case 3: a meal rec recommends wrong food items to food roles.\n",
    "recommendation={'Beverage':'cake', 'Main Course': 'cake', 'Dessert':'tea'}\n",
    "\n",
    "c.calc_coverage(recommendation)\n",
    "\n",
    "c.get_coverage()"
   ]
  },
  {
   "cell_type": "code",
   "execution_count": 8,
   "id": "9b636631",
   "metadata": {},
   "outputs": [
    {
     "data": {
      "text/plain": [
       "0.0"
      ]
     },
     "execution_count": 8,
     "metadata": {},
     "output_type": "execute_result"
    }
   ],
   "source": [
    "# Test case 4: different weights, a meal rec recommends wrong food items to food roles.\n",
    "recommendation={'Beverage':'cake', 'Dessert':'omelet', 'Main Course': 'tea'}\n",
    "\n",
    "c.set_new_weights([0,0,1,0])  # priority is the side dish\n",
    "\n",
    "c.calc_coverage(recommendation)\n",
    "\n",
    "c.get_coverage()"
   ]
  }
 ],
 "metadata": {
  "kernelspec": {
   "display_name": "Python 3 (ipykernel)",
   "language": "python",
   "name": "python3"
  },
  "language_info": {
   "codemirror_mode": {
    "name": "ipython",
    "version": 3
   },
   "file_extension": ".py",
   "mimetype": "text/x-python",
   "name": "python",
   "nbconvert_exporter": "python",
   "pygments_lexer": "ipython3",
   "version": "3.8.16"
  }
 },
 "nbformat": 4,
 "nbformat_minor": 5
}
